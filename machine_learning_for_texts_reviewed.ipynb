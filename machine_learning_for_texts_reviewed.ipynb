{
 "cells": [
  {
   "cell_type": "markdown",
   "metadata": {
    "id": "Mgo_5_PtU140",
    "toc": true
   },
   "source": [
    "<h1>Содержание<span class=\"tocSkip\"></span></h1>\n",
    "<div class=\"toc\"><ul class=\"toc-item\"><li><span><a href=\"#Подготовка\" data-toc-modified-id=\"Подготовка-1\"><span class=\"toc-item-num\">1&nbsp;&nbsp;</span>Подготовка</a></span><ul class=\"toc-item\"><li><span><a href=\"#1.1-Найдем-длину-токсичных-и-нетоксичных-комментариев\" data-toc-modified-id=\"1.1-Найдем-длину-токсичных-и-нетоксичных-комментариев-1.1\"><span class=\"toc-item-num\">1.1&nbsp;&nbsp;</span>1.1 Найдем длину токсичных и нетоксичных комментариев</a></span></li><li><span><a href=\"#1.2-Лемматизируем-текст\" data-toc-modified-id=\"1.2-Лемматизируем-текст-1.2\"><span class=\"toc-item-num\">1.2&nbsp;&nbsp;</span>1.2 Лемматизируем текст</a></span></li><li><span><a href=\"#1.3-Построим-мешок-слов-по-классам-и-определим-наиболее-характерные-слова-для---каждого-класса\" data-toc-modified-id=\"1.3-Построим-мешок-слов-по-классам-и-определим-наиболее-характерные-слова-для---каждого-класса-1.3\"><span class=\"toc-item-num\">1.3&nbsp;&nbsp;</span>1.3 Построим мешок слов по классам и определим наиболее характерные слова для   каждого класса</a></span></li><li><span><a href=\"#Вывод-1.\" data-toc-modified-id=\"Вывод-1.-1.4\"><span class=\"toc-item-num\">1.4&nbsp;&nbsp;</span>Вывод 1.</a></span></li></ul></li><li><span><a href=\"#Обучение\" data-toc-modified-id=\"Обучение-2\"><span class=\"toc-item-num\">2&nbsp;&nbsp;</span>Обучение</a></span><ul class=\"toc-item\"><li><span><a href=\"#2.1-Логистическая-регрессия\" data-toc-modified-id=\"2.1-Логистическая-регрессия-2.1\"><span class=\"toc-item-num\">2.1&nbsp;&nbsp;</span>2.1 Логистическая регрессия</a></span></li><li><span><a href=\"#2.2-Решающее-дерево\" data-toc-modified-id=\"2.2-Решающее-дерево-2.2\"><span class=\"toc-item-num\">2.2&nbsp;&nbsp;</span>2.2 Решающее дерево</a></span></li><li><span><a href=\"#2.3-Случайный-лес\" data-toc-modified-id=\"2.3-Случайный-лес-2.3\"><span class=\"toc-item-num\">2.3&nbsp;&nbsp;</span>2.3 Случайный лес</a></span></li><li><span><a href=\"#2.4-Проверка-модели\" data-toc-modified-id=\"2.4-Проверка-модели-2.4\"><span class=\"toc-item-num\">2.4&nbsp;&nbsp;</span>2.4 Проверка модели</a></span></li><li><span><a href=\"#Вывод-2.\" data-toc-modified-id=\"Вывод-2.-2.5\"><span class=\"toc-item-num\">2.5&nbsp;&nbsp;</span>Вывод 2.</a></span></li></ul></li><li><span><a href=\"#Выводы\" data-toc-modified-id=\"Выводы-3\"><span class=\"toc-item-num\">3&nbsp;&nbsp;</span>Выводы</a></span></li><li><span><a href=\"#Чек-лист-проверки\" data-toc-modified-id=\"Чек-лист-проверки-4\"><span class=\"toc-item-num\">4&nbsp;&nbsp;</span>Чек-лист проверки</a></span></li></ul></div>"
   ]
  },
  {
   "cell_type": "markdown",
   "metadata": {
    "id": "gSTWT27ZU143"
   },
   "source": [
    "# Проект для «Викишоп»"
   ]
  },
  {
   "cell_type": "markdown",
   "metadata": {
    "id": "ldnB-l9mU144"
   },
   "source": [
    "Интернет-магазин «Викишоп» запускает новый сервис. Теперь пользователи могут редактировать и дополнять описания товаров, как в вики-сообществах. То есть клиенты предлагают свои правки и комментируют изменения других. Магазину нужен инструмент, который будет искать токсичные комментарии и отправлять их на модерацию. \n",
    "\n",
    "Обучите модель классифицировать комментарии на позитивные и негативные. В вашем распоряжении набор данных с разметкой о токсичности правок.\n",
    "\n",
    "Постройте модель со значением метрики качества *F1* не меньше 0.75. \n",
    "\n",
    "**Инструкция по выполнению проекта**\n",
    "\n",
    "1. Загрузите и подготовьте данные.\n",
    "2. Обучите разные модели. \n",
    "3. Сделайте выводы.\n",
    "\n",
    "Для выполнения проекта применять *BERT* необязательно, но вы можете попробовать.\n",
    "\n",
    "**Описание данных**\n",
    "\n",
    "Данные находятся в файле `toxic_comments.csv`. Столбец *text* в нём содержит текст комментария, а *toxic* — целевой признак."
   ]
  },
  {
   "cell_type": "markdown",
   "metadata": {
    "id": "alVVPAVRU145"
   },
   "source": [
    "## Подготовка"
   ]
  },
  {
   "cell_type": "code",
   "execution_count": null,
   "metadata": {
    "colab": {
     "base_uri": "https://localhost:8080/"
    },
    "id": "fB78i69LU145",
    "outputId": "81e2c983-0ead-4ff9-d695-c4c7d4455c32"
   },
   "outputs": [],
   "source": [
    "# from google.colab import drive  \n",
    "# drive.mount('/content/drive')"
   ]
  },
  {
   "cell_type": "code",
   "execution_count": 1,
   "metadata": {
    "colab": {
     "base_uri": "https://localhost:8080/"
    },
    "id": "SE7G1xBaVTyN",
    "outputId": "723f7086-6428-4d2e-e55f-d54c4e13a8e3"
   },
   "outputs": [
    {
     "name": "stderr",
     "output_type": "stream",
     "text": [
      "[nltk_data] Downloading package wordnet to /home/jovyan/nltk_data...\n",
      "[nltk_data]   Package wordnet is already up-to-date!\n",
      "[nltk_data] Downloading package punkt to /home/jovyan/nltk_data...\n",
      "[nltk_data]   Unzipping tokenizers/punkt.zip.\n",
      "[nltk_data] Downloading package omw-1.4 to /home/jovyan/nltk_data...\n",
      "[nltk_data] Downloading package averaged_perceptron_tagger to\n",
      "[nltk_data]     /home/jovyan/nltk_data...\n",
      "[nltk_data]   Unzipping taggers/averaged_perceptron_tagger.zip.\n",
      "[nltk_data] Downloading package stopwords to /home/jovyan/nltk_data...\n",
      "[nltk_data]   Unzipping corpora/stopwords.zip.\n"
     ]
    }
   ],
   "source": [
    "# загрузим нужные библиотеки\n",
    "import os\n",
    "import pandas as pd\n",
    "import numpy as np\n",
    "import re\n",
    "from nltk.stem import WordNetLemmatizer\n",
    "from nltk.corpus import wordnet\n",
    "from sklearn.feature_extraction.text import TfidfVectorizer\n",
    "from nltk.corpus import stopwords as nltk_stopwords\n",
    "from sklearn.model_selection import train_test_split\n",
    "\n",
    "from sklearn.tree import DecisionTreeClassifier\n",
    "from sklearn.ensemble import RandomForestClassifier\n",
    "from sklearn.linear_model import LogisticRegression \n",
    "from sklearn.metrics import f1_score\n",
    "import matplotlib.pyplot as plt\n",
    "\n",
    "import nltk\n",
    "nltk.download('wordnet')\n",
    "nltk.download('punkt')\n",
    "nltk.download('omw-1.4')\n",
    "nltk.download('averaged_perceptron_tagger')\n",
    "nltk.download('stopwords')\n",
    "\n",
    "from nltk import word_tokenize, sent_tokenize, FreqDist\n",
    "from collections import defaultdict, Counter\n",
    "import string\n",
    "import requests\n",
    "from sklearn.feature_extraction.text import CountVectorizer\n",
    "\n"
   ]
  },
  {
   "cell_type": "markdown",
   "metadata": {},
   "source": [
    "<div class=\"alert alert-block alert-success\">\n",
    "<b>Комментарий от ревьюера v1</b>\n",
    "    \n",
    "✔️ Хорошо, у тебя есть основная информация о проекте и ты вынесла все библиотеки в первую ячейку. \n",
    "</div>\n",
    "<div class=\"alert alert-block alert-danger\">\n",
    "\n",
    "❌ Аккуратнее с колабом, в данный момент твой проект падает на первой ячейке и на всех тех, где ты используешь %%time(я поправил чтобы можно было запустить и вернул обратно).   \n",
    "</div>\n"
   ]
  },
  {
   "cell_type": "code",
   "execution_count": 2,
   "metadata": {
    "id": "t6JMtLZwVlS0"
   },
   "outputs": [],
   "source": [
    "# откроем файл\n",
    "pth1 = '/content/drive/MyDrive/Colab Notebooks/машинное обучение для текстов_проект для викишоп/toxic_comments.csv'\n",
    "pth2 = '/datasets/toxic_comments.csv'\n",
    "\n",
    "if os.path.exists(pth1):\n",
    "    data = pd.read_csv(pth1)\n",
    "elif os.path.exists(pth2):\n",
    "    data = pd.read_csv(pth2)\n",
    "else:\n",
    "    print('Something is wrong')"
   ]
  },
  {
   "cell_type": "markdown",
   "metadata": {},
   "source": [
    "<div class=\"alert alert-block alert-success\">\n",
    "<b>Комментарий от ревьюера v1</b>\n",
    "    \n",
    "✔️ Хороший вариант загрузки данных.\n",
    "</div>"
   ]
  },
  {
   "cell_type": "code",
   "execution_count": 3,
   "metadata": {
    "colab": {
     "base_uri": "https://localhost:8080/",
     "height": 206
    },
    "id": "eWQ36C7WWICk",
    "outputId": "311df617-308a-4c0d-b9f8-e6919525eaae"
   },
   "outputs": [
    {
     "data": {
      "text/html": [
       "<div>\n",
       "<style scoped>\n",
       "    .dataframe tbody tr th:only-of-type {\n",
       "        vertical-align: middle;\n",
       "    }\n",
       "\n",
       "    .dataframe tbody tr th {\n",
       "        vertical-align: top;\n",
       "    }\n",
       "\n",
       "    .dataframe thead th {\n",
       "        text-align: right;\n",
       "    }\n",
       "</style>\n",
       "<table border=\"1\" class=\"dataframe\">\n",
       "  <thead>\n",
       "    <tr style=\"text-align: right;\">\n",
       "      <th></th>\n",
       "      <th>text</th>\n",
       "      <th>toxic</th>\n",
       "    </tr>\n",
       "  </thead>\n",
       "  <tbody>\n",
       "    <tr>\n",
       "      <th>0</th>\n",
       "      <td>Explanation\\nWhy the edits made under my usern...</td>\n",
       "      <td>0</td>\n",
       "    </tr>\n",
       "    <tr>\n",
       "      <th>1</th>\n",
       "      <td>D'aww! He matches this background colour I'm s...</td>\n",
       "      <td>0</td>\n",
       "    </tr>\n",
       "    <tr>\n",
       "      <th>2</th>\n",
       "      <td>Hey man, I'm really not trying to edit war. It...</td>\n",
       "      <td>0</td>\n",
       "    </tr>\n",
       "    <tr>\n",
       "      <th>3</th>\n",
       "      <td>\"\\nMore\\nI can't make any real suggestions on ...</td>\n",
       "      <td>0</td>\n",
       "    </tr>\n",
       "    <tr>\n",
       "      <th>4</th>\n",
       "      <td>You, sir, are my hero. Any chance you remember...</td>\n",
       "      <td>0</td>\n",
       "    </tr>\n",
       "  </tbody>\n",
       "</table>\n",
       "</div>"
      ],
      "text/plain": [
       "                                                text  toxic\n",
       "0  Explanation\\nWhy the edits made under my usern...      0\n",
       "1  D'aww! He matches this background colour I'm s...      0\n",
       "2  Hey man, I'm really not trying to edit war. It...      0\n",
       "3  \"\\nMore\\nI can't make any real suggestions on ...      0\n",
       "4  You, sir, are my hero. Any chance you remember...      0"
      ]
     },
     "execution_count": 3,
     "metadata": {},
     "output_type": "execute_result"
    }
   ],
   "source": [
    "# выведем первые 5 строк\n",
    "data.head()"
   ]
  },
  {
   "cell_type": "code",
   "execution_count": 4,
   "metadata": {
    "colab": {
     "base_uri": "https://localhost:8080/"
    },
    "id": "MQ-96tAVs1gt",
    "outputId": "6f58c63e-2e62-494f-ad7d-4fad3a57294a"
   },
   "outputs": [
    {
     "name": "stdout",
     "output_type": "stream",
     "text": [
      "<class 'pandas.core.frame.DataFrame'>\n",
      "RangeIndex: 159571 entries, 0 to 159570\n",
      "Data columns (total 2 columns):\n",
      " #   Column  Non-Null Count   Dtype \n",
      "---  ------  --------------   ----- \n",
      " 0   text    159571 non-null  object\n",
      " 1   toxic   159571 non-null  int64 \n",
      "dtypes: int64(1), object(1)\n",
      "memory usage: 2.4+ MB\n"
     ]
    }
   ],
   "source": [
    "# посмотрим информацию о данных\n",
    "data.info()"
   ]
  },
  {
   "cell_type": "code",
   "execution_count": 5,
   "metadata": {
    "colab": {
     "base_uri": "https://localhost:8080/"
    },
    "id": "cDHYvLYzBXKd",
    "outputId": "4f5c5616-a324-4e29-cc4b-4f0ce697dfc1"
   },
   "outputs": [
    {
     "data": {
      "text/plain": [
       "0    143346\n",
       "1     16225\n",
       "Name: toxic, dtype: int64"
      ]
     },
     "execution_count": 5,
     "metadata": {},
     "output_type": "execute_result"
    }
   ],
   "source": [
    "# найдем уникальные значения для столбца \"toxic\", который будет у нас целевым признаком\n",
    "data.toxic.value_counts()"
   ]
  },
  {
   "cell_type": "markdown",
   "metadata": {
    "id": "TNhnJnT3CCXm"
   },
   "source": [
    "налицо дисбаланс классов"
   ]
  },
  {
   "cell_type": "markdown",
   "metadata": {},
   "source": [
    "<div class=\"alert alert-block alert-success\">\n",
    "<b>Комментарий от ревьюера v1</b>\n",
    "    \n",
    "✔️ Молодец, что нашла дисбаланс, эту информацию нужно учитывать при выборе метрик и стратегии обучения.\n",
    "</div>"
   ]
  },
  {
   "cell_type": "code",
   "execution_count": 6,
   "metadata": {
    "id": "r5bmkeT4x-tB"
   },
   "outputs": [],
   "source": [
    "df = pd.DataFrame(data)"
   ]
  },
  {
   "cell_type": "code",
   "execution_count": 7,
   "metadata": {
    "id": "WKEESPyxytXa"
   },
   "outputs": [],
   "source": [
    "# переведем текст в нижний регистр\n",
    "df['text'] = df['text'].str.lower()"
   ]
  },
  {
   "cell_type": "markdown",
   "metadata": {},
   "source": [
    "### 1.1 Найдем длину токсичных и нетоксичных комментариев"
   ]
  },
  {
   "cell_type": "code",
   "execution_count": 8,
   "metadata": {},
   "outputs": [],
   "source": [
    "df['length'] = df['text'].apply(len)"
   ]
  },
  {
   "cell_type": "code",
   "execution_count": 9,
   "metadata": {},
   "outputs": [
    {
     "data": {
      "text/html": [
       "<div>\n",
       "<style scoped>\n",
       "    .dataframe tbody tr th:only-of-type {\n",
       "        vertical-align: middle;\n",
       "    }\n",
       "\n",
       "    .dataframe tbody tr th {\n",
       "        vertical-align: top;\n",
       "    }\n",
       "\n",
       "    .dataframe thead th {\n",
       "        text-align: right;\n",
       "    }\n",
       "</style>\n",
       "<table border=\"1\" class=\"dataframe\">\n",
       "  <thead>\n",
       "    <tr style=\"text-align: right;\">\n",
       "      <th></th>\n",
       "      <th>text</th>\n",
       "      <th>toxic</th>\n",
       "      <th>length</th>\n",
       "    </tr>\n",
       "  </thead>\n",
       "  <tbody>\n",
       "    <tr>\n",
       "      <th>0</th>\n",
       "      <td>explanation\\nwhy the edits made under my usern...</td>\n",
       "      <td>0</td>\n",
       "      <td>264</td>\n",
       "    </tr>\n",
       "    <tr>\n",
       "      <th>1</th>\n",
       "      <td>d'aww! he matches this background colour i'm s...</td>\n",
       "      <td>0</td>\n",
       "      <td>112</td>\n",
       "    </tr>\n",
       "    <tr>\n",
       "      <th>2</th>\n",
       "      <td>hey man, i'm really not trying to edit war. it...</td>\n",
       "      <td>0</td>\n",
       "      <td>233</td>\n",
       "    </tr>\n",
       "    <tr>\n",
       "      <th>3</th>\n",
       "      <td>\"\\nmore\\ni can't make any real suggestions on ...</td>\n",
       "      <td>0</td>\n",
       "      <td>622</td>\n",
       "    </tr>\n",
       "    <tr>\n",
       "      <th>4</th>\n",
       "      <td>you, sir, are my hero. any chance you remember...</td>\n",
       "      <td>0</td>\n",
       "      <td>67</td>\n",
       "    </tr>\n",
       "  </tbody>\n",
       "</table>\n",
       "</div>"
      ],
      "text/plain": [
       "                                                text  toxic  length\n",
       "0  explanation\\nwhy the edits made under my usern...      0     264\n",
       "1  d'aww! he matches this background colour i'm s...      0     112\n",
       "2  hey man, i'm really not trying to edit war. it...      0     233\n",
       "3  \"\\nmore\\ni can't make any real suggestions on ...      0     622\n",
       "4  you, sir, are my hero. any chance you remember...      0      67"
      ]
     },
     "execution_count": 9,
     "metadata": {},
     "output_type": "execute_result"
    }
   ],
   "source": [
    "df.head()"
   ]
  },
  {
   "cell_type": "code",
   "execution_count": 10,
   "metadata": {},
   "outputs": [],
   "source": [
    "# сделаем срезы по токсичным и нетоксичным комментариям\n",
    "toxic = df[df['toxic'] == 1]\n",
    "nontoxic = df[df['toxic'] != 1]"
   ]
  },
  {
   "cell_type": "code",
   "execution_count": 11,
   "metadata": {},
   "outputs": [
    {
     "data": {
      "image/png": "[encoded data removed]",
      "text/plain": [
       "<Figure size 432x288 with 1 Axes>"
      ]
     },
     "metadata": {
      "needs_background": "light"
     },
     "output_type": "display_data"
    }
   ],
   "source": [
    "# построим гистограммы\n",
    "toxic.length.hist()\n",
    "plt.xlabel('Количество символов', fontsize=14)\n",
    "plt.ylabel('Количество сообщений', fontsize=14)\n",
    "plt.title('Токсичные сообщения', fontsize=16)\n",
    "plt.show()"
   ]
  },
  {
   "cell_type": "code",
   "execution_count": 12,
   "metadata": {},
   "outputs": [
    {
     "data": {
      "text/html": [
       "<div>\n",
       "<style scoped>\n",
       "    .dataframe tbody tr th:only-of-type {\n",
       "        vertical-align: middle;\n",
       "    }\n",
       "\n",
       "    .dataframe tbody tr th {\n",
       "        vertical-align: top;\n",
       "    }\n",
       "\n",
       "    .dataframe thead th {\n",
       "        text-align: right;\n",
       "    }\n",
       "</style>\n",
       "<table border=\"1\" class=\"dataframe\">\n",
       "  <thead>\n",
       "    <tr style=\"text-align: right;\">\n",
       "      <th></th>\n",
       "      <th>text</th>\n",
       "      <th>toxic</th>\n",
       "      <th>length</th>\n",
       "    </tr>\n",
       "  </thead>\n",
       "  <tbody>\n",
       "    <tr>\n",
       "      <th>6</th>\n",
       "      <td>cocksucker before you piss around on my work</td>\n",
       "      <td>1</td>\n",
       "      <td>44</td>\n",
       "    </tr>\n",
       "    <tr>\n",
       "      <th>12</th>\n",
       "      <td>hey... what is it..\\n@ | talk .\\nwhat is it......</td>\n",
       "      <td>1</td>\n",
       "      <td>319</td>\n",
       "    </tr>\n",
       "    <tr>\n",
       "      <th>16</th>\n",
       "      <td>bye! \\n\\ndon't look, come or think of comming ...</td>\n",
       "      <td>1</td>\n",
       "      <td>57</td>\n",
       "    </tr>\n",
       "    <tr>\n",
       "      <th>42</th>\n",
       "      <td>you are gay or antisemmitian? \\n\\narchangel wh...</td>\n",
       "      <td>1</td>\n",
       "      <td>648</td>\n",
       "    </tr>\n",
       "    <tr>\n",
       "      <th>43</th>\n",
       "      <td>fuck your filthy mother in the ass, dry!</td>\n",
       "      <td>1</td>\n",
       "      <td>40</td>\n",
       "    </tr>\n",
       "  </tbody>\n",
       "</table>\n",
       "</div>"
      ],
      "text/plain": [
       "                                                 text  toxic  length\n",
       "6        cocksucker before you piss around on my work      1      44\n",
       "12  hey... what is it..\\n@ | talk .\\nwhat is it......      1     319\n",
       "16  bye! \\n\\ndon't look, come or think of comming ...      1      57\n",
       "42  you are gay or antisemmitian? \\n\\narchangel wh...      1     648\n",
       "43           fuck your filthy mother in the ass, dry!      1      40"
      ]
     },
     "execution_count": 12,
     "metadata": {},
     "output_type": "execute_result"
    }
   ],
   "source": [
    "toxic.head()"
   ]
  },
  {
   "cell_type": "markdown",
   "metadata": {},
   "source": []
  },
  {
   "cell_type": "code",
   "execution_count": 13,
   "metadata": {},
   "outputs": [
    {
     "data": {
      "image/png": "[encoded data removed]",
      "text/plain": [
       "<Figure size 432x288 with 1 Axes>"
      ]
     },
     "metadata": {
      "needs_background": "light"
     },
     "output_type": "display_data"
    }
   ],
   "source": [
    "nontoxic.length.hist()\n",
    "plt.xlabel('Количество символов', fontsize=14)\n",
    "plt.ylabel('Количество сообщений', fontsize=14)\n",
    "plt.title('Нетоксичные сообщения', fontsize=16)\n",
    "plt.show()"
   ]
  },
  {
   "cell_type": "markdown",
   "metadata": {},
   "source": [
    "По гистограммам видно, что распределение токсичных и нетоксичных комментариев по длине примерно одинаковое, значит длина комментария не влияет на его токсичность. Таким образом, длина сообщения не может служить дополнительным признаком, который можно использовать для классификации."
   ]
  },
  {
   "cell_type": "markdown",
   "metadata": {
    "id": "atTJgPNxH6Ps"
   },
   "source": [
    "### 1.2 Лемматизируем текст"
   ]
  },
  {
   "cell_type": "code",
   "execution_count": 14,
   "metadata": {
    "id": "Gjj7-gssLn8g"
   },
   "outputs": [],
   "source": [
    "# инициализируем Wordnet Lemmatizer\n",
    "lemmatizer = WordNetLemmatizer()"
   ]
  },
  {
   "cell_type": "code",
   "execution_count": 15,
   "metadata": {
    "id": "vZuJC8ucaCIn"
   },
   "outputs": [],
   "source": [
    "# напишем функцию для pos-тегов - маркировки частей речи\n",
    "def get_wordnet_pos(word):\n",
    "    tag = nltk.pos_tag([word])[0][1][0].upper()\n",
    "    tag_dict = {\"J\": wordnet.ADJ,\n",
    "                \"N\": wordnet.NOUN,\n",
    "                \"V\": wordnet.VERB,\n",
    "                \"R\": wordnet.ADV}\n",
    "    return tag_dict.get(tag, wordnet.NOUN)\n",
    "# Lemmatize corpus with the appropriate POS tag\n",
    "# print([lemmatizer.lemmatize(w, get_wordnet_pos(w)) for w in nltk.word_tokenize(lem(clear_text(corpus[0])))])"
   ]
  },
  {
   "cell_type": "code",
   "execution_count": 16,
   "metadata": {
    "id": "_iEXaq8E22Vm"
   },
   "outputs": [],
   "source": [
    "# напишем функцию для очистки и лемматизации текста с маркированными частями речи\n",
    "def clear_text(text):\n",
    "    reg = re.sub(r'[^a-zA-Z]', ' ', text)\n",
    "    clear = reg.split() \n",
    "    lemm = []\n",
    "    # в цикле лемматизируем очищенный текст\n",
    "    for i in range(len(clear)):\n",
    "      lemm.append(lemmatizer.lemmatize(clear[i], get_wordnet_pos(clear[i])))\n",
    "    return \" \".join(lemm)"
   ]
  },
  {
   "cell_type": "code",
   "execution_count": 17,
   "metadata": {
    "colab": {
     "base_uri": "https://localhost:8080/"
    },
    "id": "1IoDReHP22dN",
    "outputId": "10617422-b813-4b51-cbdd-63fa60266629"
   },
   "outputs": [],
   "source": [
    "# применим функцию к столбцу \"текст\" и создадим столбец с лемматризированным текстом\n",
    "# %%time\n",
    "df['lemmatized_text'] = df['text'].apply(clear_text)"
   ]
  },
  {
   "cell_type": "code",
   "execution_count": 18,
   "metadata": {
    "colab": {
     "base_uri": "https://localhost:8080/",
     "height": 347
    },
    "id": "kY_3GxKg5Lls",
    "outputId": "0c048dc4-110b-4dbd-9ebd-d0c6b6044bb6"
   },
   "outputs": [
    {
     "data": {
      "text/html": [
       "<div>\n",
       "<style scoped>\n",
       "    .dataframe tbody tr th:only-of-type {\n",
       "        vertical-align: middle;\n",
       "    }\n",
       "\n",
       "    .dataframe tbody tr th {\n",
       "        vertical-align: top;\n",
       "    }\n",
       "\n",
       "    .dataframe thead th {\n",
       "        text-align: right;\n",
       "    }\n",
       "</style>\n",
       "<table border=\"1\" class=\"dataframe\">\n",
       "  <thead>\n",
       "    <tr style=\"text-align: right;\">\n",
       "      <th></th>\n",
       "      <th>text</th>\n",
       "      <th>toxic</th>\n",
       "      <th>length</th>\n",
       "      <th>lemmatized_text</th>\n",
       "    </tr>\n",
       "  </thead>\n",
       "  <tbody>\n",
       "    <tr>\n",
       "      <th>0</th>\n",
       "      <td>explanation\\nwhy the edits made under my usern...</td>\n",
       "      <td>0</td>\n",
       "      <td>264</td>\n",
       "      <td>explanation why the edits make under my userna...</td>\n",
       "    </tr>\n",
       "    <tr>\n",
       "      <th>1</th>\n",
       "      <td>d'aww! he matches this background colour i'm s...</td>\n",
       "      <td>0</td>\n",
       "      <td>112</td>\n",
       "      <td>d aww he match this background colour i m seem...</td>\n",
       "    </tr>\n",
       "    <tr>\n",
       "      <th>2</th>\n",
       "      <td>hey man, i'm really not trying to edit war. it...</td>\n",
       "      <td>0</td>\n",
       "      <td>233</td>\n",
       "      <td>hey man i m really not try to edit war it s ju...</td>\n",
       "    </tr>\n",
       "    <tr>\n",
       "      <th>3</th>\n",
       "      <td>\"\\nmore\\ni can't make any real suggestions on ...</td>\n",
       "      <td>0</td>\n",
       "      <td>622</td>\n",
       "      <td>more i can t make any real suggestion on impro...</td>\n",
       "    </tr>\n",
       "    <tr>\n",
       "      <th>4</th>\n",
       "      <td>you, sir, are my hero. any chance you remember...</td>\n",
       "      <td>0</td>\n",
       "      <td>67</td>\n",
       "      <td>you sir be my hero any chance you remember wha...</td>\n",
       "    </tr>\n",
       "  </tbody>\n",
       "</table>\n",
       "</div>"
      ],
      "text/plain": [
       "                                                text  toxic  length  \\\n",
       "0  explanation\\nwhy the edits made under my usern...      0     264   \n",
       "1  d'aww! he matches this background colour i'm s...      0     112   \n",
       "2  hey man, i'm really not trying to edit war. it...      0     233   \n",
       "3  \"\\nmore\\ni can't make any real suggestions on ...      0     622   \n",
       "4  you, sir, are my hero. any chance you remember...      0      67   \n",
       "\n",
       "                                     lemmatized_text  \n",
       "0  explanation why the edits make under my userna...  \n",
       "1  d aww he match this background colour i m seem...  \n",
       "2  hey man i m really not try to edit war it s ju...  \n",
       "3  more i can t make any real suggestion on impro...  \n",
       "4  you sir be my hero any chance you remember wha...  "
      ]
     },
     "execution_count": 18,
     "metadata": {},
     "output_type": "execute_result"
    }
   ],
   "source": [
    "# посмотрим, что получилось\n",
    "df.head()"
   ]
  },
  {
   "cell_type": "markdown",
   "metadata": {},
   "source": [
    "<div class=\"alert alert-block alert-success\">\n",
    "<b>Комментарий от ревьюера v1</b>\n",
    "    \n",
    "✔️ Ого, очень редко студент правильно реализует лемматизацию с помощью WordNetLemmatizer, у тебя это получилось. Молодец, что проверяешь результат лемматизации, это помогает уберечься от ошибок.\n",
    "</div>"
   ]
  },
  {
   "cell_type": "markdown",
   "metadata": {},
   "source": [
    "### 1.3 Построим мешок слов по классам и определим наиболее характерные слова для   каждого класса"
   ]
  },
  {
   "cell_type": "code",
   "execution_count": 19,
   "metadata": {},
   "outputs": [],
   "source": [
    "# сделаем срез по токсичным комментариям\n",
    "toxic_lem = df[df['toxic'] ==1]"
   ]
  },
  {
   "cell_type": "code",
   "execution_count": 20,
   "metadata": {},
   "outputs": [
    {
     "data": {
      "text/html": [
       "<div>\n",
       "<style scoped>\n",
       "    .dataframe tbody tr th:only-of-type {\n",
       "        vertical-align: middle;\n",
       "    }\n",
       "\n",
       "    .dataframe tbody tr th {\n",
       "        vertical-align: top;\n",
       "    }\n",
       "\n",
       "    .dataframe thead th {\n",
       "        text-align: right;\n",
       "    }\n",
       "</style>\n",
       "<table border=\"1\" class=\"dataframe\">\n",
       "  <thead>\n",
       "    <tr style=\"text-align: right;\">\n",
       "      <th></th>\n",
       "      <th>text</th>\n",
       "      <th>toxic</th>\n",
       "      <th>length</th>\n",
       "      <th>lemmatized_text</th>\n",
       "    </tr>\n",
       "  </thead>\n",
       "  <tbody>\n",
       "    <tr>\n",
       "      <th>6</th>\n",
       "      <td>cocksucker before you piss around on my work</td>\n",
       "      <td>1</td>\n",
       "      <td>44</td>\n",
       "      <td>cocksucker before you piss around on my work</td>\n",
       "    </tr>\n",
       "    <tr>\n",
       "      <th>12</th>\n",
       "      <td>hey... what is it..\\n@ | talk .\\nwhat is it......</td>\n",
       "      <td>1</td>\n",
       "      <td>319</td>\n",
       "      <td>hey what be it talk what be it an exclusive gr...</td>\n",
       "    </tr>\n",
       "    <tr>\n",
       "      <th>16</th>\n",
       "      <td>bye! \\n\\ndon't look, come or think of comming ...</td>\n",
       "      <td>1</td>\n",
       "      <td>57</td>\n",
       "      <td>bye don t look come or think of comming back t...</td>\n",
       "    </tr>\n",
       "    <tr>\n",
       "      <th>42</th>\n",
       "      <td>you are gay or antisemmitian? \\n\\narchangel wh...</td>\n",
       "      <td>1</td>\n",
       "      <td>648</td>\n",
       "      <td>you be gay or antisemmitian archangel white ti...</td>\n",
       "    </tr>\n",
       "    <tr>\n",
       "      <th>43</th>\n",
       "      <td>fuck your filthy mother in the ass, dry!</td>\n",
       "      <td>1</td>\n",
       "      <td>40</td>\n",
       "      <td>fuck your filthy mother in the as dry</td>\n",
       "    </tr>\n",
       "  </tbody>\n",
       "</table>\n",
       "</div>"
      ],
      "text/plain": [
       "                                                 text  toxic  length  \\\n",
       "6        cocksucker before you piss around on my work      1      44   \n",
       "12  hey... what is it..\\n@ | talk .\\nwhat is it......      1     319   \n",
       "16  bye! \\n\\ndon't look, come or think of comming ...      1      57   \n",
       "42  you are gay or antisemmitian? \\n\\narchangel wh...      1     648   \n",
       "43           fuck your filthy mother in the ass, dry!      1      40   \n",
       "\n",
       "                                      lemmatized_text  \n",
       "6        cocksucker before you piss around on my work  \n",
       "12  hey what be it talk what be it an exclusive gr...  \n",
       "16  bye don t look come or think of comming back t...  \n",
       "42  you be gay or antisemmitian archangel white ti...  \n",
       "43              fuck your filthy mother in the as dry  "
      ]
     },
     "execution_count": 20,
     "metadata": {},
     "output_type": "execute_result"
    }
   ],
   "source": [
    "toxic_lem.head()"
   ]
  },
  {
   "cell_type": "code",
   "execution_count": 44,
   "metadata": {},
   "outputs": [],
   "source": [
    "corpus = list(toxic_lem['lemmatized_text'])\n",
    "\n",
    "# чтобы почистить мешок слов, найдём стоп-слова, то есть слова без смысловой нагрузки.\n",
    "stop_words = set(nltk_stopwords.words('english'))\n",
    "\n",
    "# чтобы преобразовать корпус текстов в мешок слов, обратимся к классу CountVectorizer()\n",
    "# создадим счетчик: зададим максимальное значение признаков 20 наиболее часто встречающихся слов\n",
    "# и передадим стоп-слова в счетчик векторов\n",
    "count_vect = CountVectorizer(max_features=20, stop_words=stop_words)# \n",
    "\n",
    "# создадим мешок слов bow, от англ. bag of words.\n",
    "# передадим счётчику корпус текстов, вызвав функцию fit_transform(). \n",
    "# счётчик выделит из корпуса уникальные слова и посчитает количество их вхождений в каждом тексте корпуса.\n",
    "bow = count_vect.fit_transform(corpus)"
   ]
  },
  {
   "cell_type": "code",
   "execution_count": 45,
   "metadata": {},
   "outputs": [
    {
     "data": {
      "text/plain": [
       "['article',\n",
       " 'bitch',\n",
       " 'block',\n",
       " 'die',\n",
       " 'faggot',\n",
       " 'fuck',\n",
       " 'gay',\n",
       " 'get',\n",
       " 'go',\n",
       " 'hate',\n",
       " 'know',\n",
       " 'like',\n",
       " 'make',\n",
       " 'nigger',\n",
       " 'page',\n",
       " 'people',\n",
       " 'say',\n",
       " 'shit',\n",
       " 'suck',\n",
       " 'wikipedia']"
      ]
     },
     "execution_count": 45,
     "metadata": {},
     "output_type": "execute_result"
    }
   ],
   "source": [
    "# вызовем словарь методом get_feature_names() \n",
    "count_vect.get_feature_names() "
   ]
  },
  {
   "cell_type": "code",
   "execution_count": 35,
   "metadata": {},
   "outputs": [],
   "source": [
    "# feat_dict=count_vect.vocabulary_.keys()\n",
    "# display(feat_dict)"
   ]
  },
  {
   "cell_type": "code",
   "execution_count": 40,
   "metadata": {},
   "outputs": [],
   "source": [
    "# сделаем срез по нетоксичным комментариям\n",
    "nontoxic_lem = df[df['toxic'] == 0]"
   ]
  },
  {
   "cell_type": "code",
   "execution_count": 41,
   "metadata": {},
   "outputs": [
    {
     "data": {
      "text/html": [
       "<div>\n",
       "<style scoped>\n",
       "    .dataframe tbody tr th:only-of-type {\n",
       "        vertical-align: middle;\n",
       "    }\n",
       "\n",
       "    .dataframe tbody tr th {\n",
       "        vertical-align: top;\n",
       "    }\n",
       "\n",
       "    .dataframe thead th {\n",
       "        text-align: right;\n",
       "    }\n",
       "</style>\n",
       "<table border=\"1\" class=\"dataframe\">\n",
       "  <thead>\n",
       "    <tr style=\"text-align: right;\">\n",
       "      <th></th>\n",
       "      <th>text</th>\n",
       "      <th>toxic</th>\n",
       "      <th>length</th>\n",
       "      <th>lemmatized_text</th>\n",
       "    </tr>\n",
       "  </thead>\n",
       "  <tbody>\n",
       "    <tr>\n",
       "      <th>0</th>\n",
       "      <td>explanation\\nwhy the edits made under my usern...</td>\n",
       "      <td>0</td>\n",
       "      <td>264</td>\n",
       "      <td>explanation why the edits make under my userna...</td>\n",
       "    </tr>\n",
       "    <tr>\n",
       "      <th>1</th>\n",
       "      <td>d'aww! he matches this background colour i'm s...</td>\n",
       "      <td>0</td>\n",
       "      <td>112</td>\n",
       "      <td>d aww he match this background colour i m seem...</td>\n",
       "    </tr>\n",
       "    <tr>\n",
       "      <th>2</th>\n",
       "      <td>hey man, i'm really not trying to edit war. it...</td>\n",
       "      <td>0</td>\n",
       "      <td>233</td>\n",
       "      <td>hey man i m really not try to edit war it s ju...</td>\n",
       "    </tr>\n",
       "    <tr>\n",
       "      <th>3</th>\n",
       "      <td>\"\\nmore\\ni can't make any real suggestions on ...</td>\n",
       "      <td>0</td>\n",
       "      <td>622</td>\n",
       "      <td>more i can t make any real suggestion on impro...</td>\n",
       "    </tr>\n",
       "    <tr>\n",
       "      <th>4</th>\n",
       "      <td>you, sir, are my hero. any chance you remember...</td>\n",
       "      <td>0</td>\n",
       "      <td>67</td>\n",
       "      <td>you sir be my hero any chance you remember wha...</td>\n",
       "    </tr>\n",
       "  </tbody>\n",
       "</table>\n",
       "</div>"
      ],
      "text/plain": [
       "                                                text  toxic  length  \\\n",
       "0  explanation\\nwhy the edits made under my usern...      0     264   \n",
       "1  d'aww! he matches this background colour i'm s...      0     112   \n",
       "2  hey man, i'm really not trying to edit war. it...      0     233   \n",
       "3  \"\\nmore\\ni can't make any real suggestions on ...      0     622   \n",
       "4  you, sir, are my hero. any chance you remember...      0      67   \n",
       "\n",
       "                                     lemmatized_text  \n",
       "0  explanation why the edits make under my userna...  \n",
       "1  d aww he match this background colour i m seem...  \n",
       "2  hey man i m really not try to edit war it s ju...  \n",
       "3  more i can t make any real suggestion on impro...  \n",
       "4  you sir be my hero any chance you remember wha...  "
      ]
     },
     "execution_count": 41,
     "metadata": {},
     "output_type": "execute_result"
    }
   ],
   "source": [
    "nontoxic_lem.head()"
   ]
  },
  {
   "cell_type": "code",
   "execution_count": 46,
   "metadata": {},
   "outputs": [],
   "source": [
    "# найдем 20 наиболее употребимых слов для корпуса текстов нетоксичных комментариев\n",
    "corpus = list(nontoxic_lem['lemmatized_text'])\n",
    "stop_words = set(nltk_stopwords.words('english'))\n",
    "count_vect = CountVectorizer(max_features=20, stop_words=stop_words)\n",
    "bow = count_vect.fit_transform(corpus)"
   ]
  },
  {
   "cell_type": "code",
   "execution_count": 47,
   "metadata": {},
   "outputs": [
    {
     "data": {
      "text/plain": [
       "['add',\n",
       " 'also',\n",
       " 'article',\n",
       " 'edit',\n",
       " 'get',\n",
       " 'know',\n",
       " 'like',\n",
       " 'make',\n",
       " 'one',\n",
       " 'page',\n",
       " 'please',\n",
       " 'say',\n",
       " 'see',\n",
       " 'source',\n",
       " 'talk',\n",
       " 'think',\n",
       " 'time',\n",
       " 'use',\n",
       " 'wikipedia',\n",
       " 'would']"
      ]
     },
     "execution_count": 47,
     "metadata": {},
     "output_type": "execute_result"
    }
   ],
   "source": [
    "count_vect.get_feature_names() "
   ]
  },
  {
   "cell_type": "markdown",
   "metadata": {
    "id": "0_TCmaYZuKQt"
   },
   "source": [
    "### Вывод 1.\n",
    "\n",
    "Мы получили датасет из 160 строк. \n",
    "- Проверили распределение токсичных и нетоксичных комментариев по длине и нашли, что оно примерно одинаковое, значит длина комментария не влияет на его токсичность. Таким образом, длина сообщения не может служить дополнительным признаком, который можно использовать для классификации.\n",
    "- Далее очистили датасет, разметили части речи и лемматизировали, т.е. привели слова к начальным формам. Создали столбец с лемматизированным текстом.\n",
    "- Построили мешок слов по классам и нашли наиболее употребимые слова для каждого класса.\n",
    "- Проверили целевой признак на дисбаланс классов и обнаружили дисбаланс. При обучении моделей будем это учитывать."
   ]
  },
  {
   "cell_type": "markdown",
   "metadata": {},
   "source": [
    "<div class=\"alert alert-block alert-success\">\n",
    "<b>Комментарий от ревьюера v1</b>\n",
    "    \n",
    "✔️ Отлично, ты проанализировала полученные данные и нашла дисбаланс в распределении целевого признака, так как ты работаешь с текстом, то сюда ещё можно добавить изучение длины комментариев, построение мешка слов по классам и определение наиболее характерных слов для каждого класса.\n",
    "</div>"
   ]
  },
  {
   "cell_type": "markdown",
   "metadata": {},
   "source": [
    "<div class=\"alert alert-info\">\n",
    "<h2> Комментарий студента <a class=\"tocSkip\"> </h2>\n",
    "\n",
    "*спасибо, я все это сделала, в том числе построила мешок слов по классам и определила наиболее характерные слова. как можно использовать эту информацию?*\n",
    "</div>"
   ]
  },
  {
   "cell_type": "markdown",
   "metadata": {},
   "source": [
    "<div class=\"alert alert-block alert-success\">\n",
    "<b>Комментарий от ревьюера v2</b>\n",
    "    \n",
    "✔️ Молодец, ты очень сильно улучшила анализ текстовых данных. По длине комментариев можно попробовать найти аномальные данные, рассмотреть несколько длинных, может это ошибка выгрузки данных? Либо использовать эту информацию для оптимизации времени выполнения предобработки, если большинство комментариев короткие, то зачем нам тратить время на лемматизацию текста в несколько тысяч слов.<br>\n",
    "    \n",
    "Информацию по самым распространенным словам можно использовать для анализа данных, создания признаков(например: количество слов из `токсичного топа` в тексте). \n",
    "</div>"
   ]
  },
  {
   "cell_type": "markdown",
   "metadata": {
    "id": "JEsRip20U146"
   },
   "source": [
    "## Обучение"
   ]
  },
  {
   "cell_type": "code",
   "execution_count": 48,
   "metadata": {
    "id": "ZDO5IL0o6Noh"
   },
   "outputs": [],
   "source": [
    "# разделим выборки на обучающую, валидационную и тестовую в пропорции 60%-20%-20%\n",
    "target = df['toxic']\n",
    "features = df['lemmatized_text']\n",
    "\n",
    "#указываем stratify=target, чтобы сохранить соотношение классов при разделении\n",
    "#сначала разделим на обучающую и тестовую в соотношении 60%-40%\n",
    "features_train, features_test, target_train, target_test = train_test_split(\n",
    "    features, target, test_size=0.4, random_state=12345, stratify=target) \n",
    "\n",
    "#разделим тестовую выборку пополам на тестовую и валидационную\n",
    "features_valid, features_test, target_valid, target_test = train_test_split(\n",
    "    features_test, target_test, test_size=0.50, random_state=12345, stratify=target_test)"
   ]
  },
  {
   "cell_type": "markdown",
   "metadata": {},
   "source": [
    "<div class=\"alert alert-warning\">\n",
    "\n",
    "<b>Комментарий от ревьюера v1</b>\n",
    "   \n",
    "⚠️ 10% на тест и валидацию - это очень мало. У нас не такой большой дефицит данных, чтобы жертвовать качеством валидации и теста. Обычно разделяют на 60-20-20 и после подбора гиперпараметров валидационную часть можно также использовать для обучения.\n",
    "        \n",
    "</div>"
   ]
  },
  {
   "cell_type": "markdown",
   "metadata": {},
   "source": [
    "<div class=\"alert alert-info\">\n",
    "<h2> Комментарий студента <a class=\"tocSkip\"> </h2>\n",
    "\n",
    "*исправила на 60-20-20 (см.выше)*\n",
    "</div>"
   ]
  },
  {
   "cell_type": "markdown",
   "metadata": {},
   "source": [
    "<div class=\"alert alert-block alert-success\">\n",
    "<b>Комментарий от ревьюера v2</b>\n",
    "    \n",
    "✔️ Хорошо, это правильно, маленькая выборка искажает оценку нашей модели.\n",
    "</div>"
   ]
  },
  {
   "cell_type": "code",
   "execution_count": 49,
   "metadata": {
    "colab": {
     "base_uri": "https://localhost:8080/",
     "height": 121
    },
    "id": "gbY5P4-ZRWcn",
    "outputId": "b5563f26-ed6a-43b7-9f5e-ad28dac8402b"
   },
   "outputs": [
    {
     "data": {
      "text/plain": [
       "(95742,)"
      ]
     },
     "metadata": {},
     "output_type": "display_data"
    },
    {
     "data": {
      "text/plain": [
       "(95742,)"
      ]
     },
     "metadata": {},
     "output_type": "display_data"
    },
    {
     "data": {
      "text/plain": [
       "(31914,)"
      ]
     },
     "metadata": {},
     "output_type": "display_data"
    },
    {
     "data": {
      "text/plain": [
       "(31914,)"
      ]
     },
     "metadata": {},
     "output_type": "display_data"
    },
    {
     "data": {
      "text/plain": [
       "(31915,)"
      ]
     },
     "metadata": {},
     "output_type": "display_data"
    },
    {
     "data": {
      "text/plain": [
       "(31915,)"
      ]
     },
     "metadata": {},
     "output_type": "display_data"
    }
   ],
   "source": [
    "# проверим размер выборок\n",
    "display(features_train.shape)\n",
    "display(target_train.shape)\n",
    "display(features_valid.shape)\n",
    "display(target_valid.shape)\n",
    "display(features_test.shape)\n",
    "display(target_test.shape)"
   ]
  },
  {
   "cell_type": "code",
   "execution_count": 50,
   "metadata": {
    "colab": {
     "base_uri": "https://localhost:8080/"
    },
    "id": "aJqhLaCrAcpZ",
    "outputId": "e1ebab7e-bba3-4b02-ba74-d473d9c1d19d"
   },
   "outputs": [
    {
     "name": "stdout",
     "output_type": "stream",
     "text": [
      "0    89.8%\n",
      "1    10.2%\n",
      "Name: toxic, dtype: object\n",
      "0    89.8%\n",
      "1    10.2%\n",
      "Name: toxic, dtype: object\n",
      "0    89.8%\n",
      "1    10.2%\n",
      "Name: toxic, dtype: object\n"
     ]
    }
   ],
   "source": [
    "# проверим выборки на дисбаланс классов\n",
    "print(target_train.value_counts(\n",
    "    normalize=True).mul(100).round(1).astype(str) + '%')\n",
    "print(target_valid.value_counts(\n",
    "    normalize=True).mul(100).round(1).astype(str) + '%')\n",
    "print(target_test.value_counts(\n",
    "    normalize=True).mul(100).round(1).astype(str) + '%')"
   ]
  },
  {
   "cell_type": "code",
   "execution_count": 51,
   "metadata": {
    "id": "1S8P58uV21Q6"
   },
   "outputs": [],
   "source": [
    "# найдём стоп-слова, то есть слова без смысловой нагрузки\n",
    "# для этого вызовем функцию stopwords.words(), передадим ей аргумент\n",
    "# 'english' для английского языка\n",
    "stopwords = set(nltk_stopwords.words('english'))\n",
    "\n",
    "# при создании счётчика передадим список стоп-слов в счётчик tfidf():\n",
    "count_tf_idf = TfidfVectorizer(stop_words=stopwords)"
   ]
  },
  {
   "cell_type": "markdown",
   "metadata": {},
   "source": [
    "<div class=\"alert alert-warning\">\n",
    "\n",
    "<b>Комментарий от ревьюера v1</b>\n",
    "   \n",
    "⚠️ В комментариях ты пишешь про CountVectorizer, а используешь TfidfVectorizer, это разные методы кодировки текста.\n",
    "</div>"
   ]
  },
  {
   "cell_type": "markdown",
   "metadata": {},
   "source": [
    "<div class=\"alert alert-info\">\n",
    "<h2> Комментарий студента <a class=\"tocSkip\"> </h2>\n",
    "\n",
    "*спасибо, исправила. а TfidfVectorizer тоже переводит слова в векторы?*\n",
    "</div>"
   ]
  },
  {
   "cell_type": "markdown",
   "metadata": {},
   "source": [
    "<div class=\"alert alert-block alert-success\">\n",
    "<b>Комментарий от ревьюера v2</b>\n",
    "    \n",
    "✔️ Да, Tf-idf оценивает важность слова. Вес некоторого слова пропорционален частоте употребления этого слова в документе и обратно пропорционален частоте употребления слова во всех документах коллекции.\n",
    "</div>"
   ]
  },
  {
   "cell_type": "code",
   "execution_count": 52,
   "metadata": {
    "id": "y5Z-4kGyU146"
   },
   "outputs": [],
   "source": [
    "# переведем слова в векторы и посчитаем tf_idf\n",
    "'''Оценка важности слова определяется величиной TF-IDF (от англ. term frequency, \n",
    "«частота термина, или слова»; inverse document frequency, «обратная частота документа, или текста»). \n",
    "То есть TF отвечает за количество упоминаний слова в отдельном тексте, \n",
    "а IDF отражает частоту его употребления во всём корпусе.'''\n",
    "train_tf_idf = count_tf_idf.fit_transform(features_train)\n",
    "valid_tf_idf = count_tf_idf.transform(features_valid)\n",
    "test_tf_idf = count_tf_idf.transform(features_test)"
   ]
  },
  {
   "cell_type": "markdown",
   "metadata": {},
   "source": [
    "<div class=\"alert alert-block alert-danger\">\n",
    "<b>Комментарий от ревьюера v1</b>\n",
    "    \n",
    "❌ Ты совершенно верно выполнила преобразование текстовых данных, но нам не нужно выполнять .values.astype('U') - это преобразование необходимо для русского текста, в нашем же случае мы просто увеличим количество потребляемой памяти и из-за этого может упасть ядро.\n",
    "</div>\n"
   ]
  },
  {
   "cell_type": "markdown",
   "metadata": {},
   "source": [
    "<div class=\"alert alert-info\">\n",
    "<h2> Комментарий студента <a class=\"tocSkip\"> </h2>\n",
    "\n",
    "*ок, исправила*\n",
    "</div>"
   ]
  },
  {
   "cell_type": "code",
   "execution_count": 53,
   "metadata": {
    "colab": {
     "base_uri": "https://localhost:8080/"
    },
    "id": "saz-vcclAZaR",
    "outputId": "3dfaf0cc-5bf1-411d-a54a-34d65611b8b4"
   },
   "outputs": [
    {
     "name": "stdout",
     "output_type": "stream",
     "text": [
      "Размер матрицы: (95742, 110950)\n",
      "Размер матрицы: (31914, 110950)\n",
      "Размер матрицы: (31915, 110950)\n"
     ]
    }
   ],
   "source": [
    "print(\"Размер матрицы:\", train_tf_idf.shape)\n",
    "print(\"Размер матрицы:\", valid_tf_idf.shape)\n",
    "print(\"Размер матрицы:\", test_tf_idf.shape)"
   ]
  },
  {
   "cell_type": "code",
   "execution_count": 54,
   "metadata": {
    "id": "QgtMyQq2AceB"
   },
   "outputs": [],
   "source": [
    "# pd.DataFrame(test_tf_idf.toarray()) это убило мое ядро"
   ]
  },
  {
   "cell_type": "markdown",
   "metadata": {
    "id": "bOSvhiFyy7oR"
   },
   "source": [
    "Для определения тональности применим величины TF-IDF как признаки.\n",
    "Анализ тональности текста, или сентимент-анализ (от англ. sentiment, «настроение»), выявляет эмоционально окрашенные слова. Этот инструмент помогает компаниям оценивать, например, реакцию на запуск нового продукта в интернете. На разбор тысячи отзывов человек потратит несколько часов, а компьютер — пару минут.\n",
    "Оценить тональность — значит отметить текст как позитивный или негативный. То есть мы решаем задачу классификации, где целевой признак равен «1» для положительного текста и «0» для отрицательного. Признаки — это слова из корпуса и их величины TF-IDF для каждого текста."
   ]
  },
  {
   "cell_type": "markdown",
   "metadata": {},
   "source": [
    "<div class=\"alert alert-block alert-success\">\n",
    "<b>Комментарий от ревьюера v1</b>\n",
    "    \n",
    "✔️ Все абсолютно верно, данные готовы к обучению.\n",
    "</div>"
   ]
  },
  {
   "cell_type": "markdown",
   "metadata": {
    "id": "9GoW-SpTxqg_"
   },
   "source": [
    "### 2.1 Логистическая регрессия"
   ]
  },
  {
   "cell_type": "code",
   "execution_count": 55,
   "metadata": {
    "colab": {
     "base_uri": "https://localhost:8080/"
    },
    "id": "KembLHr2wheh",
    "outputId": "d43486c1-ad88-4bd9-e350-a6ad85d7d628"
   },
   "outputs": [
    {
     "name": "stdout",
     "output_type": "stream",
     "text": [
      "Значение С: 1\n",
      "F1_score: 0.7466812645408512\n",
      "\n",
      "Значение С: 2\n",
      "F1_score: 0.7565229524208177\n",
      "\n",
      "Значение С: 3\n",
      "F1_score: 0.7596506058044519\n",
      "\n",
      "Значение С: 4\n",
      "F1_score: 0.7605513713230069\n",
      "\n",
      "Значение С: 5\n",
      "F1_score: 0.7607326846021751\n",
      "\n",
      "Значение С: 6\n",
      "F1_score: 0.7603567318757192\n",
      "\n",
      "Значение С: 7\n",
      "F1_score: 0.7587503615851895\n",
      "\n",
      "Значение С: 8\n",
      "F1_score: 0.757830626450116\n",
      "\n",
      "Значение С: 9\n",
      "F1_score: 0.7565760790582763\n",
      "\n",
      "\n"
     ]
    }
   ],
   "source": [
    "# обучим модель логистической регрессии, \n",
    "# укажем гиперпараметр class_weight='balanced'\n",
    "# найдем наилучшее значение С\n",
    "for c in range(1, 10):\n",
    "    model = LogisticRegression(class_weight='balanced', \n",
    "                          random_state=12345, \n",
    "                          max_iter=1000, \n",
    "                          solver='lbfgs', \n",
    "                               C=c)\n",
    "    # обучим модель на тренировочной выборке\n",
    "    model.fit(train_tf_idf, target_train)\n",
    "    # найдем предсказания на валидационной выборке\n",
    "    predicted_valid = model.predict(valid_tf_idf)\n",
    "    print (\"Значение С:\", c)\n",
    "    # напечатаем значение метрики F1\n",
    "    print(\"F1_score:\", f1_score(target_valid, predicted_valid))\n",
    "    print('')\n",
    "print()"
   ]
  },
  {
   "cell_type": "markdown",
   "metadata": {},
   "source": [
    "Нашли наилучший гиперпараметр С=5"
   ]
  },
  {
   "cell_type": "markdown",
   "metadata": {},
   "source": [
    "<div class=\"alert alert-block alert-success\">\n",
    "<b>Комментарий от ревьюера v1</b>\n",
    "    \n",
    "✔️ Хороший результат, чтобы его улучшить можно попробовать подобрать гиперпараметр C.\n",
    "</div>"
   ]
  },
  {
   "cell_type": "markdown",
   "metadata": {},
   "source": [
    "<div class=\"alert alert-info\">\n",
    "<h2> Комментарий студента <a class=\"tocSkip\"> </h2>\n",
    "\n",
    "*попробовала*\n",
    "</div>"
   ]
  },
  {
   "cell_type": "markdown",
   "metadata": {},
   "source": [
    "<div class=\"alert alert-block alert-success\">\n",
    "<b>Комментарий от ревьюера v2</b>\n",
    "    \n",
    "✔️ Обычно С подбирается в диапозоне [0.01, 0.1, 1, 10] и потом уточняется.\n",
    "</div>"
   ]
  },
  {
   "cell_type": "markdown",
   "metadata": {
    "id": "lLbXv8dnzWhY"
   },
   "source": [
    "### 2.2 Решающее дерево"
   ]
  },
  {
   "cell_type": "code",
   "execution_count": 56,
   "metadata": {
    "colab": {
     "base_uri": "https://localhost:8080/"
    },
    "id": "DHaxp7Ag5NUa",
    "outputId": "a8def836-f23a-40a1-ef77-aa7740e63df2"
   },
   "outputs": [
    {
     "name": "stdout",
     "output_type": "stream",
     "text": [
      "Глубина: 2\n",
      "F1_score: 0.36952191235059767\n",
      "\n",
      "Глубина: 4\n",
      "F1_score: 0.4741044946383756\n",
      "\n",
      "Глубина: 6\n",
      "F1_score: 0.5511411665257819\n",
      "\n",
      "Глубина: 8\n",
      "F1_score: 0.5666041275797373\n",
      "\n",
      "Глубина: 10\n",
      "F1_score: 0.5937248592115849\n",
      "\n",
      "Глубина: 12\n",
      "F1_score: 0.601032307398203\n",
      "\n",
      "Глубина: 14\n",
      "F1_score: 0.6135321100917431\n",
      "\n",
      "Глубина: 16\n",
      "F1_score: 0.6232073011734028\n",
      "\n",
      "Глубина: 18\n",
      "F1_score: 0.6266395714021799\n",
      "\n",
      "\n"
     ]
    }
   ],
   "source": [
    "# обучим модель решающего дерева для классификации и подберем наилучшую глубину\n",
    "# %%time\n",
    "for depth in range(2, 20, 2):\n",
    "    #создадим модель, указав max_depth=depth\n",
    "    model = DecisionTreeClassifier(random_state=12345, \n",
    "                                  max_depth=depth,\n",
    "                                  class_weight='balanced')\n",
    "    #обучим модель\n",
    "    model.fit(train_tf_idf, target_train)\n",
    "    predicted_valid = model.predict(valid_tf_idf)\n",
    "    print('Глубина:', depth)\n",
    "    print(\"F1_score:\", f1_score(target_valid, predicted_valid))    \n",
    "    print('')\n",
    "print()"
   ]
  },
  {
   "cell_type": "markdown",
   "metadata": {},
   "source": [
    "<div class=\"alert alert-block alert-success\">\n",
    "<b>Комментарий от ревьюера v1</b>\n",
    "    \n",
    "✔️ Деревья обычно не могут справиться с таким большим количеством признаков.\n",
    "</div>"
   ]
  },
  {
   "cell_type": "markdown",
   "metadata": {
    "id": "HM5yqGus0qAG"
   },
   "source": [
    "### 2.3 Случайный лес"
   ]
  },
  {
   "cell_type": "code",
   "execution_count": 57,
   "metadata": {
    "colab": {
     "base_uri": "https://localhost:8080/"
    },
    "id": "aQUCjBBwSg3H",
    "outputId": "de84893c-febd-4cdf-f55f-df182f2ded36"
   },
   "outputs": [
    {
     "name": "stdout",
     "output_type": "stream",
     "text": [
      "Глубина: 3\n",
      "F1_score: 0.323419432779152\n",
      "\n",
      "Глубина: 6\n",
      "F1_score: 0.3338494521200572\n",
      "\n",
      "Глубина: 9\n",
      "F1_score: 0.3575618464677378\n",
      "\n",
      "Глубина: 12\n",
      "F1_score: 0.36843508397760594\n",
      "\n",
      "Глубина: 15\n",
      "F1_score: 0.38802614011664677\n",
      "\n",
      "Глубина: 18\n",
      "F1_score: 0.39956076134699847\n",
      "\n",
      "\n"
     ]
    }
   ],
   "source": [
    "# построим модель случайного леса для регрессии с подбором наилучших гиперпараметров\n",
    "# найдем наилучшую глубину дерева\n",
    "# %%time\n",
    "for depth in range(3, 20, 3):\n",
    "    model = RandomForestClassifier(random_state=12345, \n",
    "                                   max_depth = depth, \n",
    "                                   class_weight='balanced')\n",
    "    model.fit(train_tf_idf, target_train)\n",
    "    predicted_valid = model.predict(valid_tf_idf)\n",
    "    print('Глубина:', depth)\n",
    "    print(\"F1_score:\", f1_score(target_valid, predicted_valid))    \n",
    "    print('')\n",
    "print()"
   ]
  },
  {
   "cell_type": "markdown",
   "metadata": {
    "id": "CMxsRwDz1HbC"
   },
   "source": [
    "Модель склонна к переобучению, поэтому ограничим глубину дерева 9"
   ]
  },
  {
   "cell_type": "code",
   "execution_count": 58,
   "metadata": {
    "colab": {
     "base_uri": "https://localhost:8080/"
    },
    "id": "oo_Ct9a63z8t",
    "outputId": "dcddeb8c-2055-472e-f06d-6459a42aef09"
   },
   "outputs": [
    {
     "name": "stdout",
     "output_type": "stream",
     "text": [
      "Количество деревьев: 100\n",
      "F1_score: 0.3575618464677378\n",
      "\n",
      "Количество деревьев: 500\n",
      "F1_score: 0.36800938599921784\n",
      "\n",
      "Количество деревьев: 1000\n",
      "F1_score: 0.3722372501154583\n",
      "\n",
      "\n"
     ]
    }
   ],
   "source": [
    "# найдем наилучшее количество деревьев\n",
    "# %%time\n",
    "for est in [100, 500, 1000]:\n",
    "    model = RandomForestClassifier(random_state=12345, \n",
    "                                   n_estimators=est, \n",
    "                                   max_depth=9,\n",
    "                                   class_weight='balanced')\n",
    "    model.fit(train_tf_idf, target_train)\n",
    "    predicted_valid = model.predict(valid_tf_idf)\n",
    "    print('Количество деревьев:', est)\n",
    "    print(\"F1_score:\", f1_score(target_valid, predicted_valid))    \n",
    "    print('')\n",
    "print()"
   ]
  },
  {
   "cell_type": "markdown",
   "metadata": {
    "id": "to5HshVU1Qr2"
   },
   "source": [
    "Лучший результат метрики F1 показала модель логистической регрессии. Проверим ее на тестовой выборке."
   ]
  },
  {
   "cell_type": "markdown",
   "metadata": {},
   "source": [
    "<div class=\"alert alert-block alert-success\">\n",
    "<b>Комментарий от ревьюера v1</b>\n",
    "    \n",
    "✔️ Ты хорошо поработала с обучением моделей и было бы хорошо, если бы ты попробовала добавить сюда бустинговую модель, например catboost умеет обрабатывать текстовые признаки, достаточно передать в него лемматизированный текст и информацию о том, что признак текстовый. \n",
    "</div>"
   ]
  },
  {
   "cell_type": "markdown",
   "metadata": {
    "id": "yLhhojVC1dD1"
   },
   "source": [
    "### 2.4 Проверка модели"
   ]
  },
  {
   "cell_type": "code",
   "execution_count": 59,
   "metadata": {
    "colab": {
     "base_uri": "https://localhost:8080/"
    },
    "id": "c7IF9K3K6QNJ",
    "outputId": "a13293fe-55a7-4c4d-e66a-802c5565af40"
   },
   "outputs": [
    {
     "name": "stdout",
     "output_type": "stream",
     "text": [
      "F1_score: 0.7637231503579952\n"
     ]
    }
   ],
   "source": [
    "model = LogisticRegression(class_weight='balanced', \n",
    "                          random_state=12345, \n",
    "                          max_iter=1000, \n",
    "                          solver='lbfgs',\n",
    "                          C=5)\n",
    "# объединим тренировочную и валидационную выборки\n",
    "features_train_lr = pd.concat([features_train, features_valid])\n",
    "target_train_lr = pd.concat([target_train, target_valid])\n",
    "\n",
    "features_train_tf_idf = count_tf_idf.fit_transform(features_train_lr)\n",
    "features_test_tf_idf = count_tf_idf.transform(features_test)\n",
    "# обучим модель на тренировочной выборке\n",
    "model.fit(features_train_tf_idf, target_train_lr)\n",
    "\n",
    "# найдем предсказания на тестовой выборке\n",
    "predicted_test = model.predict(features_test_tf_idf)\n",
    "\n",
    "# выведем результат F1\n",
    "print(\"F1_score:\", f1_score(target_test, predicted_test))"
   ]
  },
  {
   "cell_type": "code",
   "execution_count": 60,
   "metadata": {},
   "outputs": [
    {
     "data": {
      "text/plain": [
       "(31915, 132326)"
      ]
     },
     "metadata": {},
     "output_type": "display_data"
    },
    {
     "data": {
      "text/plain": [
       "(127656, 132326)"
      ]
     },
     "metadata": {},
     "output_type": "display_data"
    }
   ],
   "source": [
    "display(features_test_tf_idf.shape)\n",
    "display(features_train_tf_idf.shape)"
   ]
  },
  {
   "cell_type": "markdown",
   "metadata": {
    "id": "raC0Xmn-2Mh7"
   },
   "source": [
    "### Вывод 2. \n",
    "\n",
    "При обучении моделей наилучший результат показала модель логистической регрессии. Значение F1-меры на тестовой выборке - 0,76.\n",
    "Сводная таблица моделей:"
   ]
  },
  {
   "cell_type": "code",
   "execution_count": 61,
   "metadata": {
    "colab": {
     "base_uri": "https://localhost:8080/",
     "height": 161
    },
    "id": "ou2LJyzC2pkI",
    "outputId": "2974fa9c-dfb4-4cef-dbb7-782349449586"
   },
   "outputs": [
    {
     "name": "stdout",
     "output_type": "stream",
     "text": [
      "Обучение моделей для классифиции комментарии на позитивные и негативные\n"
     ]
    },
    {
     "data": {
      "text/html": [
       "<div>\n",
       "<style scoped>\n",
       "    .dataframe tbody tr th:only-of-type {\n",
       "        vertical-align: middle;\n",
       "    }\n",
       "\n",
       "    .dataframe tbody tr th {\n",
       "        vertical-align: top;\n",
       "    }\n",
       "\n",
       "    .dataframe thead th {\n",
       "        text-align: right;\n",
       "    }\n",
       "</style>\n",
       "<table border=\"1\" class=\"dataframe\">\n",
       "  <thead>\n",
       "    <tr style=\"text-align: right;\">\n",
       "      <th></th>\n",
       "      <th>F1-мера</th>\n",
       "    </tr>\n",
       "  </thead>\n",
       "  <tbody>\n",
       "    <tr>\n",
       "      <th>логистическая регрессия</th>\n",
       "      <td>0.76</td>\n",
       "    </tr>\n",
       "    <tr>\n",
       "      <th>решающее дерево</th>\n",
       "      <td>0.60</td>\n",
       "    </tr>\n",
       "    <tr>\n",
       "      <th>случайный лес</th>\n",
       "      <td>0.35</td>\n",
       "    </tr>\n",
       "  </tbody>\n",
       "</table>\n",
       "</div>"
      ],
      "text/plain": [
       "                         F1-мера\n",
       "логистическая регрессия     0.76\n",
       "решающее дерево             0.60\n",
       "случайный лес               0.35"
      ]
     },
     "execution_count": 61,
     "metadata": {},
     "output_type": "execute_result"
    }
   ],
   "source": [
    "tabledata = [[\"логистическая регрессия\", 0.76],\n",
    "         [\"решающее дерево\", 0.60],\n",
    "         [\"случайный лес\", 0.35]]\n",
    "print(\"Обучение моделей для классифиции комментарии на позитивные и негативные\")\n",
    "df= pd.DataFrame(tabledata, columns=[\"модель\",\"F1-мера\"])\n",
    "df = df.set_index('модель')\n",
    "df.index.names = [None]\n",
    "df"
   ]
  },
  {
   "cell_type": "markdown",
   "metadata": {},
   "source": [
    "<div class=\"alert alert-warning\">\n",
    "\n",
    "<b>Комментарий от ревьюера v1</b>\n",
    "   \n",
    "⚠️ Лучше сначала создать итоговую таблицу и заполнять её по ходу обучения моделей. При ручной сборке очень легко ошибиться, особенно, если бы у тебя было много вариантов обучения.\n",
    "</div>"
   ]
  },
  {
   "cell_type": "markdown",
   "metadata": {},
   "source": [
    "<div class=\"alert alert-info\">\n",
    "<h2> Комментарий студента <a class=\"tocSkip\"> </h2>\n",
    "\n",
    "*Не совсем поняла, как создать итоговую таблицу и заполнять по ходу обучения. Это значит, что данные будут автоматически заноситься в нее по ходу обучения моделей? Подскажи пожалуйста, как это реализовать.*\n",
    "</div>"
   ]
  },
  {
   "cell_type": "markdown",
   "metadata": {},
   "source": [
    "<div class=\"alert alert-block alert-success\">\n",
    "<b>Комментарий от ревьюера v1</b>\n",
    "    \n",
    "✔️ Смотри\n",
    "    \n",
    "    df= pd.DataFrame(columns=[\"модель\",\"F1-мера\"])   <- Создаем таблицу\n",
    "                                                        \n",
    "    dict_to_add = {'модель' : model_name,\n",
    "                    'F1-мера' : metric}           <- Словарь, который будем использовать для записи в таблицу\n",
    "    \n",
    "    df.append(dict_to_add, ignore_index=True)   <- Записываем данные в таблицу.\n",
    "</div>\n",
    "\n",
    "\n",
    "\n",
    "\n",
    "\n"
   ]
  },
  {
   "cell_type": "markdown",
   "metadata": {
    "id": "IxNS0bBFU147"
   },
   "source": [
    "## Выводы"
   ]
  },
  {
   "cell_type": "markdown",
   "metadata": {
    "id": "kzFM-3kE339S"
   },
   "source": [
    "1. Мы получили датасет из 160 строк. \n",
    "- Проверили распределение токсичных и нетоксичных комментариев по длине и нашли, что оно примерно одинаковое, значит длина комментария не влияет на его токсичность. Таким образом, длина сообщения не может служить дополнительным признаком, который можно использовать для классификации.\n",
    "- Далее очистили датасет, разметили части речи и лемматизировали, т.е. привели слова к начальным формам. Создали столбец с лемматизированным текстом.\n",
    "- Построили мешок слов по классам и нашли наиболее употребимые слова для каждого класса.\n",
    "- Проверили целевой признак на дисбаланс классов и обнаружили дисбаланс. При обучении моделей будем это учитывать.\n",
    "\n",
    "2. При обучении моделей с подбором гиперпараметров наилучший результат показала модель логистической регрессии. Значение F1-меры на тестовой выборке - 0,76."
   ]
  },
  {
   "cell_type": "markdown",
   "metadata": {},
   "source": [
    "<div class=\"alert alert-block alert-success\">\n",
    "Комментарий от ревьюера v1\n",
    "    \n",
    "# Общий вывод\n",
    "    \n",
    "Спасибо за работу, у тебя получился хороший проект. Ты полностью справилась со всеми техническими сложностями проекта, правильно выполнила предобработку текстовых данных и добилась необходимого значения метрики на тесте.\n",
    "\n",
    "В своем проекте ты не подбираешь гиперпараметры с помощью GridSearchCV, но если захочешь, то используй Pipeline. Он позволяет объединять предобработку признаков и поиск оптимальных параметров. Тут есть краткий пример того, как можно построить pipeline, он включает предобработку текста. \n",
    "    https://scikit-learn.ru/example/sample-pipeline-for-text-feature-extraction-and-evaluation/\n",
    " \n",
    "GridSearchCV и Pipeline:  https://scikit-learn.org/stable/tutorial/statistical_inference/putting_together.htm\n",
    "    \n",
    "</div>\n",
    "\n",
    "<div class=\"alert alert-block alert-danger\">\n",
    "    \n",
    "❌ <b>Необходимо исправить:</b> \n",
    "    \n",
    "- Твой проект не выполняется на Я.П., попробуй сначала установить google-colab, а потом уже подгружать его в проект;\n",
    "- Убери преобразование к юникоду .astype('U').    \n",
    "\n",
    "</div>\n",
    "\n",
    "Жду твою работу, удачи!"
   ]
  },
  {
   "cell_type": "markdown",
   "metadata": {},
   "source": [
    "<div class=\"alert alert-block alert-success\">\n",
    "Комментарий от ревьюера v2\n",
    "    \n",
    "Ты поправила все неточности и я готов принять проект. Надеюсь, что смог ответить на твои вопросы, если есть ещё что-то, то задавай, если нет, то возвращай проект и я приму его) \n",
    "</div>\n",
    "\n"
   ]
  },
  {
   "cell_type": "markdown",
   "metadata": {},
   "source": [
    "<div class=\"alert alert-info\">\n",
    "<h2> Комментарий студента <a class=\"tocSkip\"> </h2>\n",
    "\n",
    "*Спасибо! вопросов больше нет.*\n",
    "</div>"
   ]
  },
  {
   "cell_type": "markdown",
   "metadata": {},
   "source": [
    "<div class=\"alert alert-block alert-success\">\n",
    "Комментарий от ревьюера v3\n",
    "    \n",
    "Хорошо, тогда успехов в дальнейшем обучении)\n",
    "</div>\n",
    "\n"
   ]
  },
  {
   "cell_type": "markdown",
   "metadata": {
    "id": "T4aCQyV0U148"
   },
   "source": [
    "## Чек-лист проверки"
   ]
  },
  {
   "cell_type": "markdown",
   "metadata": {
    "id": "Zs39rHo7U148"
   },
   "source": [
    "- [x]  Jupyter Notebook открыт\n",
    "- [ ]  Весь код выполняется без ошибок\n",
    "- [ ]  Ячейки с кодом расположены в порядке исполнения\n",
    "- [ ]  Данные загружены и подготовлены\n",
    "- [ ]  Модели обучены\n",
    "- [ ]  Значение метрики *F1* не меньше 0.75\n",
    "- [ ]  Выводы написаны"
   ]
  }
 ],
 "metadata": {
  "ExecuteTimeLog": [
   {
    "duration": 52,
    "start_time": "2022-07-26T06:13:51.496Z"
   },
   {
    "duration": 0,
    "start_time": "2022-07-26T06:13:51.550Z"
   },
   {
    "duration": 0,
    "start_time": "2022-07-26T06:13:51.551Z"
   },
   {
    "duration": 0,
    "start_time": "2022-07-26T06:13:51.552Z"
   },
   {
    "duration": 0,
    "start_time": "2022-07-26T06:13:51.553Z"
   },
   {
    "duration": 0,
    "start_time": "2022-07-26T06:13:51.555Z"
   },
   {
    "duration": 0,
    "start_time": "2022-07-26T06:13:51.555Z"
   },
   {
    "duration": 0,
    "start_time": "2022-07-26T06:13:51.557Z"
   },
   {
    "duration": 0,
    "start_time": "2022-07-26T06:13:51.558Z"
   },
   {
    "duration": 6,
    "start_time": "2022-07-26T06:13:51.561Z"
   },
   {
    "duration": 41,
    "start_time": "2022-07-26T06:13:51.569Z"
   },
   {
    "duration": 4,
    "start_time": "2022-07-26T06:13:51.613Z"
   },
   {
    "duration": 0,
    "start_time": "2022-07-26T06:13:51.620Z"
   },
   {
    "duration": 0,
    "start_time": "2022-07-26T06:13:51.622Z"
   },
   {
    "duration": 0,
    "start_time": "2022-07-26T06:13:51.623Z"
   },
   {
    "duration": 0,
    "start_time": "2022-07-26T06:13:51.625Z"
   },
   {
    "duration": 0,
    "start_time": "2022-07-26T06:13:51.626Z"
   },
   {
    "duration": 0,
    "start_time": "2022-07-26T06:13:51.627Z"
   },
   {
    "duration": 0,
    "start_time": "2022-07-26T06:13:51.628Z"
   },
   {
    "duration": 0,
    "start_time": "2022-07-26T06:13:51.629Z"
   },
   {
    "duration": 0,
    "start_time": "2022-07-26T06:13:51.630Z"
   },
   {
    "duration": 0,
    "start_time": "2022-07-26T06:13:51.632Z"
   },
   {
    "duration": 0,
    "start_time": "2022-07-26T06:13:51.632Z"
   },
   {
    "duration": 5,
    "start_time": "2022-07-26T06:13:51.640Z"
   },
   {
    "duration": 0,
    "start_time": "2022-07-26T06:13:51.647Z"
   },
   {
    "duration": 0,
    "start_time": "2022-07-26T06:13:51.648Z"
   },
   {
    "duration": 5474,
    "start_time": "2022-07-26T06:16:11.945Z"
   },
   {
    "duration": 3282,
    "start_time": "2022-07-26T06:16:17.421Z"
   },
   {
    "duration": 10,
    "start_time": "2022-07-26T06:16:20.705Z"
   },
   {
    "duration": 35,
    "start_time": "2022-07-26T06:16:20.717Z"
   },
   {
    "duration": 6,
    "start_time": "2022-07-26T06:16:20.755Z"
   },
   {
    "duration": 3,
    "start_time": "2022-07-26T06:16:20.763Z"
   },
   {
    "duration": 324,
    "start_time": "2022-07-26T06:16:20.768Z"
   },
   {
    "duration": 2,
    "start_time": "2022-07-26T06:16:21.094Z"
   },
   {
    "duration": 13,
    "start_time": "2022-07-26T06:16:21.097Z"
   },
   {
    "duration": 10,
    "start_time": "2022-07-26T06:16:21.112Z"
   },
   {
    "duration": 6,
    "start_time": "2022-07-26T06:16:21.124Z"
   },
   {
    "duration": 0,
    "start_time": "2022-07-26T06:16:21.132Z"
   },
   {
    "duration": 0,
    "start_time": "2022-07-26T06:16:21.134Z"
   },
   {
    "duration": 0,
    "start_time": "2022-07-26T06:16:21.136Z"
   },
   {
    "duration": 0,
    "start_time": "2022-07-26T06:16:21.137Z"
   },
   {
    "duration": 0,
    "start_time": "2022-07-26T06:16:21.139Z"
   },
   {
    "duration": 0,
    "start_time": "2022-07-26T06:16:21.140Z"
   },
   {
    "duration": 0,
    "start_time": "2022-07-26T06:16:21.142Z"
   },
   {
    "duration": 0,
    "start_time": "2022-07-26T06:16:21.144Z"
   },
   {
    "duration": 0,
    "start_time": "2022-07-26T06:16:21.145Z"
   },
   {
    "duration": 0,
    "start_time": "2022-07-26T06:16:21.147Z"
   },
   {
    "duration": 0,
    "start_time": "2022-07-26T06:16:21.148Z"
   },
   {
    "duration": 0,
    "start_time": "2022-07-26T06:16:21.149Z"
   },
   {
    "duration": 0,
    "start_time": "2022-07-26T06:16:21.151Z"
   },
   {
    "duration": 0,
    "start_time": "2022-07-26T06:16:21.153Z"
   },
   {
    "duration": 1187329,
    "start_time": "2022-07-26T06:16:47.320Z"
   },
   {
    "duration": 8,
    "start_time": "2022-07-26T06:36:34.651Z"
   },
   {
    "duration": 98,
    "start_time": "2022-07-26T06:36:34.660Z"
   },
   {
    "duration": 10,
    "start_time": "2022-07-26T06:36:34.761Z"
   },
   {
    "duration": 12,
    "start_time": "2022-07-26T06:36:34.773Z"
   },
   {
    "duration": 5,
    "start_time": "2022-07-26T06:36:34.810Z"
   },
   {
    "duration": 12313,
    "start_time": "2022-07-26T06:36:34.816Z"
   },
   {
    "duration": 4,
    "start_time": "2022-07-26T06:36:47.131Z"
   },
   {
    "duration": 8,
    "start_time": "2022-07-26T06:36:47.137Z"
   },
   {
    "duration": 44864,
    "start_time": "2022-07-26T06:36:47.148Z"
   },
   {
    "duration": 68329,
    "start_time": "2022-07-26T06:37:32.014Z"
   },
   {
    "duration": 34468,
    "start_time": "2022-07-26T06:38:40.345Z"
   },
   {
    "duration": 0,
    "start_time": "2022-07-26T06:53:08.816Z"
   },
   {
    "duration": 0,
    "start_time": "2022-07-26T06:53:08.818Z"
   },
   {
    "duration": 0,
    "start_time": "2022-07-26T06:53:08.819Z"
   },
   {
    "duration": 0,
    "start_time": "2022-07-26T06:53:08.820Z"
   },
   {
    "duration": 0,
    "start_time": "2022-07-26T06:53:08.821Z"
   },
   {
    "duration": 7,
    "start_time": "2022-07-26T06:53:08.826Z"
   },
   {
    "duration": 0,
    "start_time": "2022-07-26T06:53:08.835Z"
   },
   {
    "duration": 0,
    "start_time": "2022-07-26T06:53:08.836Z"
   },
   {
    "duration": 0,
    "start_time": "2022-07-26T06:53:08.838Z"
   },
   {
    "duration": 0,
    "start_time": "2022-07-26T06:53:08.839Z"
   },
   {
    "duration": 0,
    "start_time": "2022-07-26T06:53:08.840Z"
   },
   {
    "duration": 6,
    "start_time": "2022-07-26T06:53:08.842Z"
   },
   {
    "duration": 9,
    "start_time": "2022-07-26T06:53:08.853Z"
   },
   {
    "duration": 0,
    "start_time": "2022-07-26T06:53:08.863Z"
   },
   {
    "duration": 55,
    "start_time": "2022-07-26T06:53:08.869Z"
   },
   {
    "duration": 0,
    "start_time": "2022-07-26T06:53:08.927Z"
   },
   {
    "duration": 0,
    "start_time": "2022-07-26T06:53:08.928Z"
   },
   {
    "duration": 0,
    "start_time": "2022-07-26T06:53:08.929Z"
   },
   {
    "duration": 12,
    "start_time": "2022-07-26T06:53:08.931Z"
   },
   {
    "duration": 0,
    "start_time": "2022-07-26T06:53:08.945Z"
   },
   {
    "duration": 0,
    "start_time": "2022-07-26T06:53:08.946Z"
   },
   {
    "duration": 1,
    "start_time": "2022-07-26T06:53:08.947Z"
   },
   {
    "duration": 0,
    "start_time": "2022-07-26T06:53:08.949Z"
   },
   {
    "duration": 0,
    "start_time": "2022-07-26T06:53:08.951Z"
   },
   {
    "duration": 4188,
    "start_time": "2022-07-26T06:53:17.190Z"
   },
   {
    "duration": 2367,
    "start_time": "2022-07-26T06:53:21.501Z"
   },
   {
    "duration": 9,
    "start_time": "2022-07-26T06:53:23.870Z"
   },
   {
    "duration": 31,
    "start_time": "2022-07-26T06:53:23.880Z"
   },
   {
    "duration": 11,
    "start_time": "2022-07-26T06:53:23.913Z"
   },
   {
    "duration": 3,
    "start_time": "2022-07-26T06:53:23.971Z"
   },
   {
    "duration": 272,
    "start_time": "2022-07-26T06:53:25.899Z"
   },
   {
    "duration": 3,
    "start_time": "2022-07-26T06:53:27.070Z"
   },
   {
    "duration": 3,
    "start_time": "2022-07-26T06:53:27.710Z"
   },
   {
    "duration": 3,
    "start_time": "2022-07-26T06:53:28.490Z"
   },
   {
    "duration": 1137937,
    "start_time": "2022-07-26T06:53:31.210Z"
   },
   {
    "duration": 10,
    "start_time": "2022-07-26T07:12:29.149Z"
   },
   {
    "duration": 184,
    "start_time": "2022-07-26T07:12:29.161Z"
   },
   {
    "duration": 13,
    "start_time": "2022-07-26T07:12:29.348Z"
   },
   {
    "duration": 17,
    "start_time": "2022-07-26T07:12:29.424Z"
   },
   {
    "duration": 5,
    "start_time": "2022-07-26T07:12:29.445Z"
   },
   {
    "duration": 22006,
    "start_time": "2022-07-26T07:12:29.452Z"
   },
   {
    "duration": 5,
    "start_time": "2022-07-26T07:12:51.459Z"
   },
   {
    "duration": 51201,
    "start_time": "2022-07-26T07:12:51.524Z"
   },
   {
    "duration": 129603,
    "start_time": "2022-07-26T07:13:42.728Z"
   },
   {
    "duration": 81468,
    "start_time": "2022-07-26T07:15:52.334Z"
   },
   {
    "duration": 6596,
    "start_time": "2022-07-26T09:36:14.857Z"
   },
   {
    "duration": 2614,
    "start_time": "2022-07-26T09:36:21.456Z"
   },
   {
    "duration": 9,
    "start_time": "2022-07-26T09:36:37.975Z"
   },
   {
    "duration": 32,
    "start_time": "2022-07-26T09:36:38.871Z"
   },
   {
    "duration": 8,
    "start_time": "2022-07-26T09:36:39.947Z"
   },
   {
    "duration": 3,
    "start_time": "2022-07-26T09:36:42.068Z"
   },
   {
    "duration": 287,
    "start_time": "2022-07-26T09:36:43.072Z"
   },
   {
    "duration": 4,
    "start_time": "2022-07-26T09:36:46.037Z"
   },
   {
    "duration": 4,
    "start_time": "2022-07-26T09:36:47.070Z"
   },
   {
    "duration": 4,
    "start_time": "2022-07-26T09:36:47.935Z"
   },
   {
    "duration": 4,
    "start_time": "2022-07-26T09:36:49.804Z"
   },
   {
    "duration": 1182838,
    "start_time": "2022-07-26T09:37:02.671Z"
   },
   {
    "duration": 8,
    "start_time": "2022-07-26T10:06:42.036Z"
   },
   {
    "duration": 96,
    "start_time": "2022-07-26T10:06:50.355Z"
   },
   {
    "duration": 60,
    "start_time": "2022-07-26T10:08:00.555Z"
   },
   {
    "duration": 57,
    "start_time": "2022-07-26T10:08:34.701Z"
   },
   {
    "duration": 66,
    "start_time": "2022-07-26T10:08:56.914Z"
   },
   {
    "duration": 10,
    "start_time": "2022-07-26T10:09:27.959Z"
   },
   {
    "duration": 23,
    "start_time": "2022-07-26T10:09:32.138Z"
   },
   {
    "duration": 4,
    "start_time": "2022-07-26T10:09:37.101Z"
   },
   {
    "duration": 126,
    "start_time": "2022-07-26T10:09:45.347Z"
   },
   {
    "duration": 7800,
    "start_time": "2022-07-26T10:11:03.523Z"
   },
   {
    "duration": 3,
    "start_time": "2022-07-26T10:11:17.342Z"
   },
   {
    "duration": 620706,
    "start_time": "2022-07-26T10:36:13.636Z"
   },
   {
    "duration": 5,
    "start_time": "2022-07-26T10:49:18.589Z"
   },
   {
    "duration": 44681,
    "start_time": "2022-07-26T10:49:26.035Z"
   },
   {
    "duration": 7,
    "start_time": "2022-07-26T10:52:40.770Z"
   },
   {
    "duration": 25084,
    "start_time": "2022-07-26T10:52:47.187Z"
   },
   {
    "duration": 6,
    "start_time": "2022-07-26T10:53:12.274Z"
   },
   {
    "duration": 50908,
    "start_time": "2022-07-26T10:53:23.968Z"
   },
   {
    "duration": 19,
    "start_time": "2022-07-26T10:55:34.495Z"
   },
   {
    "duration": 106858,
    "start_time": "2022-07-26T11:06:31.166Z"
   },
   {
    "duration": 4,
    "start_time": "2022-07-26T11:09:53.977Z"
   },
   {
    "duration": 6,
    "start_time": "2022-07-26T11:10:17.108Z"
   },
   {
    "duration": 104633,
    "start_time": "2022-07-26T11:11:42.498Z"
   },
   {
    "duration": 5,
    "start_time": "2022-07-26T11:13:32.763Z"
   },
   {
    "duration": 105458,
    "start_time": "2022-07-26T11:21:39.866Z"
   },
   {
    "duration": 6,
    "start_time": "2022-07-26T11:23:25.326Z"
   },
   {
    "duration": 10,
    "start_time": "2022-07-26T11:30:05.193Z"
   },
   {
    "duration": 2528,
    "start_time": "2022-07-26T18:21:57.542Z"
   },
   {
    "duration": 1031,
    "start_time": "2022-07-26T18:22:42.248Z"
   },
   {
    "duration": 2242,
    "start_time": "2022-07-26T18:22:48.987Z"
   },
   {
    "duration": 8,
    "start_time": "2022-07-26T18:22:51.231Z"
   },
   {
    "duration": 34,
    "start_time": "2022-07-26T18:23:00.805Z"
   },
   {
    "duration": 6,
    "start_time": "2022-07-26T18:23:02.272Z"
   },
   {
    "duration": 3,
    "start_time": "2022-07-26T18:23:07.560Z"
   },
   {
    "duration": 283,
    "start_time": "2022-07-26T18:23:09.738Z"
   },
   {
    "duration": 62,
    "start_time": "2022-07-26T18:23:16.247Z"
   },
   {
    "duration": 9,
    "start_time": "2022-07-26T18:23:29.016Z"
   },
   {
    "duration": 21,
    "start_time": "2022-07-26T18:25:12.444Z"
   },
   {
    "duration": 358,
    "start_time": "2022-07-26T18:25:25.701Z"
   },
   {
    "duration": 155,
    "start_time": "2022-07-26T18:26:02.794Z"
   },
   {
    "duration": 17,
    "start_time": "2022-07-26T18:26:35.381Z"
   },
   {
    "duration": 152,
    "start_time": "2022-07-26T18:26:44.303Z"
   },
   {
    "duration": 5124,
    "start_time": "2022-07-27T10:23:14.941Z"
   },
   {
    "duration": 2833,
    "start_time": "2022-07-27T10:23:27.242Z"
   },
   {
    "duration": 10,
    "start_time": "2022-07-27T10:23:31.945Z"
   },
   {
    "duration": 38,
    "start_time": "2022-07-27T10:23:34.203Z"
   },
   {
    "duration": 8,
    "start_time": "2022-07-27T10:23:35.357Z"
   },
   {
    "duration": 4,
    "start_time": "2022-07-27T10:23:38.009Z"
   },
   {
    "duration": 354,
    "start_time": "2022-07-27T10:23:38.959Z"
   },
   {
    "duration": 66,
    "start_time": "2022-07-27T10:24:01.773Z"
   },
   {
    "duration": 7,
    "start_time": "2022-07-27T10:24:15.497Z"
   },
   {
    "duration": 19,
    "start_time": "2022-07-27T10:24:32.947Z"
   },
   {
    "duration": 315,
    "start_time": "2022-07-27T10:27:06.988Z"
   },
   {
    "duration": 189,
    "start_time": "2022-07-27T10:27:19.258Z"
   },
   {
    "duration": 157,
    "start_time": "2022-07-27T10:27:27.591Z"
   },
   {
    "duration": 176,
    "start_time": "2022-07-27T10:28:01.857Z"
   },
   {
    "duration": 160,
    "start_time": "2022-07-27T10:28:47.042Z"
   },
   {
    "duration": 180,
    "start_time": "2022-07-27T10:33:11.181Z"
   },
   {
    "duration": 158,
    "start_time": "2022-07-27T10:33:26.394Z"
   },
   {
    "duration": 8,
    "start_time": "2022-07-27T10:47:53.295Z"
   },
   {
    "duration": 168,
    "start_time": "2022-07-27T10:50:15.366Z"
   },
   {
    "duration": 63,
    "start_time": "2022-07-27T11:12:47.226Z"
   },
   {
    "duration": 22,
    "start_time": "2022-07-27T11:15:04.524Z"
   },
   {
    "duration": 270,
    "start_time": "2022-07-27T11:26:23.150Z"
   },
   {
    "duration": 133,
    "start_time": "2022-07-27T11:26:36.306Z"
   },
   {
    "duration": 17,
    "start_time": "2022-07-27T11:27:59.388Z"
   },
   {
    "duration": 11,
    "start_time": "2022-07-27T11:33:03.256Z"
   },
   {
    "duration": 7,
    "start_time": "2022-07-27T11:33:36.401Z"
   },
   {
    "duration": 8288,
    "start_time": "2022-07-27T11:33:54.932Z"
   },
   {
    "duration": 8213,
    "start_time": "2022-07-27T11:34:45.115Z"
   },
   {
    "duration": 15765,
    "start_time": "2022-07-27T11:35:21.984Z"
   },
   {
    "duration": 239,
    "start_time": "2022-07-27T11:38:05.751Z"
   },
   {
    "duration": 1389,
    "start_time": "2022-07-27T11:38:41.768Z"
   },
   {
    "duration": 38,
    "start_time": "2022-07-27T11:38:47.754Z"
   },
   {
    "duration": 1218,
    "start_time": "2022-07-27T11:41:44.594Z"
   },
   {
    "duration": 38,
    "start_time": "2022-07-27T11:41:48.589Z"
   },
   {
    "duration": 10,
    "start_time": "2022-07-27T11:46:23.657Z"
   },
   {
    "duration": 3,
    "start_time": "2022-07-27T11:49:04.375Z"
   },
   {
    "duration": 3,
    "start_time": "2022-07-27T11:49:13.538Z"
   },
   {
    "duration": 30,
    "start_time": "2022-07-27T11:49:43.088Z"
   },
   {
    "duration": 19,
    "start_time": "2022-07-27T11:49:57.529Z"
   },
   {
    "duration": 15,
    "start_time": "2022-07-27T11:49:59.872Z"
   },
   {
    "duration": 3,
    "start_time": "2022-07-27T11:51:23.692Z"
   },
   {
    "duration": 19,
    "start_time": "2022-07-27T11:51:29.979Z"
   },
   {
    "duration": 10,
    "start_time": "2022-07-27T11:52:23.112Z"
   },
   {
    "duration": 676,
    "start_time": "2022-07-27T11:52:46.655Z"
   },
   {
    "duration": 1339,
    "start_time": "2022-07-27T11:52:58.102Z"
   },
   {
    "duration": 11,
    "start_time": "2022-07-27T11:53:53.903Z"
   },
   {
    "duration": 43,
    "start_time": "2022-07-27T11:54:03.002Z"
   },
   {
    "duration": 15,
    "start_time": "2022-07-27T12:00:04.056Z"
   },
   {
    "duration": 13,
    "start_time": "2022-07-27T12:00:13.093Z"
   },
   {
    "duration": 3,
    "start_time": "2022-07-27T12:03:45.855Z"
   },
   {
    "duration": 4,
    "start_time": "2022-07-27T12:03:49.130Z"
   },
   {
    "duration": 4,
    "start_time": "2022-07-27T12:03:52.601Z"
   },
   {
    "duration": 1150530,
    "start_time": "2022-07-27T12:03:56.344Z"
   },
   {
    "duration": 8,
    "start_time": "2022-07-27T12:27:12.858Z"
   },
   {
    "duration": 44,
    "start_time": "2022-07-27T12:28:20.240Z"
   },
   {
    "duration": 9,
    "start_time": "2022-07-27T12:28:29.068Z"
   },
   {
    "duration": 34,
    "start_time": "2022-07-27T12:29:21.216Z"
   },
   {
    "duration": 33,
    "start_time": "2022-07-27T12:29:37.337Z"
   },
   {
    "duration": 12,
    "start_time": "2022-07-27T12:29:45.184Z"
   },
   {
    "duration": 58,
    "start_time": "2022-07-27T12:29:58.525Z"
   },
   {
    "duration": 12,
    "start_time": "2022-07-27T12:30:03.651Z"
   },
   {
    "duration": 4,
    "start_time": "2022-07-27T12:30:38.776Z"
   },
   {
    "duration": 11,
    "start_time": "2022-07-27T12:30:59.970Z"
   },
   {
    "duration": 22,
    "start_time": "2022-07-27T12:33:33.679Z"
   },
   {
    "duration": 50,
    "start_time": "2022-07-27T12:34:15.678Z"
   },
   {
    "duration": 7,
    "start_time": "2022-07-27T12:34:18.818Z"
   },
   {
    "duration": 31,
    "start_time": "2022-07-27T12:34:51.430Z"
   },
   {
    "duration": 1876,
    "start_time": "2022-07-27T12:56:35.552Z"
   },
   {
    "duration": 763,
    "start_time": "2022-07-27T12:56:37.430Z"
   },
   {
    "duration": 11,
    "start_time": "2022-07-27T12:56:38.194Z"
   },
   {
    "duration": 41,
    "start_time": "2022-07-27T12:56:38.207Z"
   },
   {
    "duration": 9,
    "start_time": "2022-07-27T12:56:38.250Z"
   },
   {
    "duration": 3,
    "start_time": "2022-07-27T12:56:38.260Z"
   },
   {
    "duration": 306,
    "start_time": "2022-07-27T12:56:38.265Z"
   },
   {
    "duration": 72,
    "start_time": "2022-07-27T12:56:39.034Z"
   },
   {
    "duration": 7,
    "start_time": "2022-07-27T12:56:39.252Z"
   },
   {
    "duration": 18,
    "start_time": "2022-07-27T12:56:39.443Z"
   },
   {
    "duration": 181,
    "start_time": "2022-07-27T12:56:39.636Z"
   },
   {
    "duration": 7,
    "start_time": "2022-07-27T12:56:40.023Z"
   },
   {
    "duration": 150,
    "start_time": "2022-07-27T12:56:40.473Z"
   },
   {
    "duration": 1174,
    "start_time": "2022-07-27T12:56:40.940Z"
   },
   {
    "duration": 45,
    "start_time": "2022-07-27T12:56:50.887Z"
   },
   {
    "duration": 137,
    "start_time": "2022-07-27T12:56:51.733Z"
   },
   {
    "duration": 2,
    "start_time": "2022-07-27T12:56:54.044Z"
   },
   {
    "duration": 3,
    "start_time": "2022-07-27T12:56:55.220Z"
   },
   {
    "duration": 4,
    "start_time": "2022-07-27T12:56:56.486Z"
   },
   {
    "duration": 3,
    "start_time": "2022-07-27T12:56:56.985Z"
   },
   {
    "duration": 1123012,
    "start_time": "2022-07-27T12:56:58.637Z"
   },
   {
    "duration": 8,
    "start_time": "2022-07-27T13:15:41.652Z"
   },
   {
    "duration": 38,
    "start_time": "2022-07-27T13:15:41.661Z"
   },
   {
    "duration": 9,
    "start_time": "2022-07-27T13:15:41.701Z"
   },
   {
    "duration": 4168,
    "start_time": "2022-07-28T16:22:58.013Z"
   },
   {
    "duration": 2176,
    "start_time": "2022-07-28T16:23:02.184Z"
   },
   {
    "duration": 10,
    "start_time": "2022-07-28T16:23:04.363Z"
   },
   {
    "duration": 36,
    "start_time": "2022-07-28T16:23:04.375Z"
   },
   {
    "duration": 6,
    "start_time": "2022-07-28T16:23:05.719Z"
   },
   {
    "duration": 4,
    "start_time": "2022-07-28T16:23:08.380Z"
   },
   {
    "duration": 302,
    "start_time": "2022-07-28T16:23:09.875Z"
   },
   {
    "duration": 60,
    "start_time": "2022-07-28T16:23:11.903Z"
   },
   {
    "duration": 7,
    "start_time": "2022-07-28T16:23:12.391Z"
   },
   {
    "duration": 18,
    "start_time": "2022-07-28T16:23:12.792Z"
   },
   {
    "duration": 171,
    "start_time": "2022-07-28T16:23:13.259Z"
   },
   {
    "duration": 8,
    "start_time": "2022-07-28T16:23:13.628Z"
   },
   {
    "duration": 168,
    "start_time": "2022-07-28T16:23:14.881Z"
   },
   {
    "duration": 2,
    "start_time": "2022-07-28T16:23:33.868Z"
   },
   {
    "duration": 4,
    "start_time": "2022-07-28T16:23:35.699Z"
   },
   {
    "duration": 3,
    "start_time": "2022-07-28T16:23:37.369Z"
   },
   {
    "duration": 1170170,
    "start_time": "2022-07-28T16:23:38.943Z"
   },
   {
    "duration": 9,
    "start_time": "2022-07-28T16:47:08.487Z"
   },
   {
    "duration": 31,
    "start_time": "2022-07-28T16:47:19.998Z"
   },
   {
    "duration": 9,
    "start_time": "2022-07-28T16:47:36.067Z"
   },
   {
    "duration": 141,
    "start_time": "2022-07-28T16:54:28.576Z"
   },
   {
    "duration": 17,
    "start_time": "2022-07-28T16:54:53.351Z"
   },
   {
    "duration": 560,
    "start_time": "2022-07-28T16:56:22.907Z"
   },
   {
    "duration": 9,
    "start_time": "2022-07-28T16:56:50.111Z"
   },
   {
    "duration": 31,
    "start_time": "2022-07-28T16:56:55.030Z"
   },
   {
    "duration": 4,
    "start_time": "2022-07-28T16:58:18.533Z"
   },
   {
    "duration": 26,
    "start_time": "2022-07-28T16:58:30.083Z"
   },
   {
    "duration": 11,
    "start_time": "2022-07-28T17:01:33.963Z"
   },
   {
    "duration": 618,
    "start_time": "2022-07-28T17:01:57.539Z"
   },
   {
    "duration": 5,
    "start_time": "2022-07-28T17:02:00.363Z"
   },
   {
    "duration": 583,
    "start_time": "2022-07-28T17:02:30.286Z"
   },
   {
    "duration": 5,
    "start_time": "2022-07-28T17:02:31.370Z"
   },
   {
    "duration": 681,
    "start_time": "2022-07-28T17:03:34.420Z"
   },
   {
    "duration": 5,
    "start_time": "2022-07-28T17:03:36.601Z"
   },
   {
    "duration": 6,
    "start_time": "2022-07-28T17:04:39.739Z"
   },
   {
    "duration": 4,
    "start_time": "2022-07-28T17:04:43.599Z"
   },
   {
    "duration": 16,
    "start_time": "2022-07-28T17:07:43.001Z"
   },
   {
    "duration": 5,
    "start_time": "2022-07-28T17:08:21.811Z"
   },
   {
    "duration": 11,
    "start_time": "2022-07-28T17:08:59.738Z"
   },
   {
    "duration": 21,
    "start_time": "2022-07-28T17:09:22.853Z"
   },
   {
    "duration": 9,
    "start_time": "2022-07-28T17:09:24.554Z"
   },
   {
    "duration": 7606,
    "start_time": "2022-07-28T17:09:45.527Z"
   },
   {
    "duration": 6,
    "start_time": "2022-07-28T17:09:54.890Z"
   },
   {
    "duration": 618,
    "start_time": "2022-07-28T17:12:49.846Z"
   },
   {
    "duration": 5,
    "start_time": "2022-07-28T17:12:53.573Z"
   },
   {
    "duration": 6650,
    "start_time": "2022-07-28T17:13:25.293Z"
   },
   {
    "duration": 5,
    "start_time": "2022-07-28T17:13:33.350Z"
   },
   {
    "duration": 112,
    "start_time": "2022-07-28T17:30:43.964Z"
   },
   {
    "duration": 9,
    "start_time": "2022-07-28T17:30:47.088Z"
   },
   {
    "duration": 16,
    "start_time": "2022-07-28T17:30:48.360Z"
   },
   {
    "duration": 4,
    "start_time": "2022-07-28T17:30:48.986Z"
   },
   {
    "duration": 8161,
    "start_time": "2022-07-28T17:30:51.170Z"
   },
   {
    "duration": 6,
    "start_time": "2022-07-28T17:31:04.161Z"
   },
   {
    "duration": 5,
    "start_time": "2022-07-28T17:31:04.856Z"
   },
   {
    "duration": 651454,
    "start_time": "2022-07-28T17:31:08.671Z"
   },
   {
    "duration": 44862,
    "start_time": "2022-07-28T17:42:00.127Z"
   },
   {
    "duration": 25013,
    "start_time": "2022-07-28T17:42:44.991Z"
   },
   {
    "duration": 50461,
    "start_time": "2022-07-28T17:43:10.007Z"
   },
   {
    "duration": 109062,
    "start_time": "2022-07-28T17:44:00.470Z"
   },
   {
    "duration": 11,
    "start_time": "2022-07-28T17:45:49.536Z"
   },
   {
    "duration": 38,
    "start_time": "2022-07-28T17:45:49.549Z"
   },
   {
    "duration": 414,
    "start_time": "2022-07-29T08:40:20.493Z"
   },
   {
    "duration": 12,
    "start_time": "2022-07-29T08:40:26.446Z"
   },
   {
    "duration": 12,
    "start_time": "2022-07-29T08:40:31.807Z"
   },
   {
    "duration": 76,
    "start_time": "2022-07-29T08:40:49.402Z"
   },
   {
    "duration": 24,
    "start_time": "2022-07-29T08:40:59.885Z"
   },
   {
    "duration": 8,
    "start_time": "2022-07-29T08:41:06.158Z"
   },
   {
    "duration": 4,
    "start_time": "2022-07-29T08:41:11.872Z"
   },
   {
    "duration": 4,
    "start_time": "2022-07-29T08:41:15.185Z"
   },
   {
    "duration": 5,
    "start_time": "2022-07-29T08:41:20.105Z"
   },
   {
    "duration": 5,
    "start_time": "2022-07-29T08:41:35.757Z"
   },
   {
    "duration": 7,
    "start_time": "2022-07-29T08:41:36.938Z"
   },
   {
    "duration": 4,
    "start_time": "2022-07-29T08:41:38.925Z"
   },
   {
    "duration": 7,
    "start_time": "2022-07-29T08:41:41.747Z"
   },
   {
    "duration": 7,
    "start_time": "2022-07-29T08:41:46.645Z"
   },
   {
    "duration": 4,
    "start_time": "2022-07-29T08:41:51.285Z"
   },
   {
    "duration": 6,
    "start_time": "2022-07-29T08:41:51.757Z"
   },
   {
    "duration": 10,
    "start_time": "2022-07-29T08:42:06.445Z"
   },
   {
    "duration": 14,
    "start_time": "2022-07-29T08:42:13.597Z"
   },
   {
    "duration": 9,
    "start_time": "2022-07-29T08:42:17.126Z"
   },
   {
    "duration": 11,
    "start_time": "2022-07-29T08:42:21.299Z"
   },
   {
    "duration": 9,
    "start_time": "2022-07-29T08:42:26.566Z"
   },
   {
    "duration": 9,
    "start_time": "2022-07-29T08:46:15.345Z"
   },
   {
    "duration": 13,
    "start_time": "2022-07-29T08:46:22.754Z"
   },
   {
    "duration": 13,
    "start_time": "2022-07-29T08:46:25.963Z"
   },
   {
    "duration": 76,
    "start_time": "2022-07-29T08:46:46.126Z"
   }
  ],
  "colab": {
   "collapsed_sections": [],
   "name": "машинное обучение для текстов_викишоп.ipynb",
   "provenance": [],
   "toc_visible": true
  },
  "kernelspec": {
   "display_name": "Python 3 (ipykernel)",
   "language": "python",
   "name": "python3"
  },
  "language_info": {
   "codemirror_mode": {
    "name": "ipython",
    "version": 3
   },
   "file_extension": ".py",
   "mimetype": "text/x-python",
   "name": "python",
   "nbconvert_exporter": "python",
   "pygments_lexer": "ipython3",
   "version": "3.9.5"
  },
  "toc": {
   "base_numbering": 1,
   "nav_menu": {},
   "number_sections": true,
   "sideBar": true,
   "skip_h1_title": true,
   "title_cell": "Содержание",
   "title_sidebar": "Contents",
   "toc_cell": true,
   "toc_position": {
    "height": "calc(100% - 180px)",
    "left": "10px",
    "top": "150px",
    "width": "302.391px"
   },
   "toc_section_display": true,
   "toc_window_display": true
  }
 },
 "nbformat": 4,
 "nbformat_minor": 1
}
